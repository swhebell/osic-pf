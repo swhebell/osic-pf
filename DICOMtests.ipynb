{
 "cells": [
  {
   "cell_type": "code",
   "execution_count": 1,
   "metadata": {},
   "outputs": [],
   "source": [
    "import os\n",
    "\n",
    "from lungmask import mask\n",
    "import SimpleITK as sitk\n",
    "import pydicom as dicom\n",
    "\n",
    "dicom.config.use_DS_numpy= True\n",
    "\n",
    "import cv2\n",
    "\n",
    "import numpy as np\n",
    "import pandas as pd\n",
    "\n",
    "import matplotlib.pyplot as plt\n",
    "import matplotlib.image as mpimg\n",
    "\n",
    "from sklearn.preprocessing import MinMaxScaler\n",
    "\n",
    "import skimage\n",
    "\n",
    "import scipy\n",
    "\n",
    "from datetime import datetime\n",
    "from datetime import timedelta"
   ]
  },
  {
   "cell_type": "code",
   "execution_count": 2,
   "metadata": {},
   "outputs": [],
   "source": [
    "dicomdir = 'osic-pulmonary-fibrosis-progression/train/' # set the directory the DICOM folders are stored in\n",
    "patients = []\n",
    "\n",
    "# Create a list of patient IDs from folder names\n",
    "for root, dirs, files in os.walk(dicomdir):\n",
    "    patients += dirs"
   ]
  },
  {
   "cell_type": "code",
   "execution_count": 3,
   "metadata": {},
   "outputs": [],
   "source": [
    "# Functions to load DICOMs to numpy arrays and convert images to HUs\n",
    "\n",
    "## https://www.raddq.com/dicom-processing-segmentation-visualization-in-python/ - modified code for determining slice thickness and HUs\n",
    "\n",
    "def load_scan(path):\n",
    "    slices = [dicom.read_file(path + '/' + s) for s in os.listdir(path)]\n",
    "    slices.sort(key = lambda x: int(x.InstanceNumber))\n",
    "    try:\n",
    "        slice_thickness = np.abs(slices[0].ImagePositionPatient[2] - slices[1].ImagePositionPatient[2])\n",
    "    except:\n",
    "        try:\n",
    "            slice_thickness = np.abs(slices[0].SliceLocation - slices[1].SliceLocation)\n",
    "        except:\n",
    "            try:\n",
    "                slice_thickness = np.abs(slices[0].SliceThickness)\n",
    "            except:\n",
    "                print(\"Could not determine slice thickness, skipping calculation of lung volume\")\n",
    "                raise\n",
    "        \n",
    "    for s in slices:\n",
    "        s.SliceThickness = slice_thickness\n",
    "        \n",
    "    return slices\n",
    "\n",
    "def get_pixels_hu(scans):\n",
    "    image = np.stack([s.pixel_array for s in scans])\n",
    "\n",
    "    image = image.astype(np.int16)\n",
    "\n",
    "    # Set outside-of-scan pixels to 1\n",
    "    # The intercept is usually -1024, so air is approximately 0\n",
    "    image[image == -2000] = 0\n",
    "    \n",
    "    # Convert to Hounsfield units (HU)\n",
    "    intercept = scans[0].RescaleIntercept\n",
    "    slope = scans[0].RescaleSlope\n",
    "    \n",
    "    if slope != 1:\n",
    "        image = slope * image.astype(np.float64)\n",
    "        image = image.astype(np.int16)\n",
    "        \n",
    "    image += np.int16(intercept)\n",
    "    \n",
    "    return np.array(image, dtype=np.int16)\n",
    "\n",
    "def process_scan(scandir):\n",
    "    # Load the specified scan, create an array with HUs\n",
    "    slices = load_scan(scandir)\n",
    "    slices_hu = get_pixels_hu(slices)\n",
    "    \n",
    "    # Resample the image such that each pixel represents 1mmx1mmx1mm\n",
    "    spacing = np.array([slices[0].SliceThickness])\n",
    "    spacing = np.append(spacing, slices[0].PixelSpacing)\n",
    "\n",
    "    resize_factor = spacing / [1,1,1]\n",
    "    new_real_shape = slices_hu.shape * resize_factor\n",
    "    new_shape = np.round(new_real_shape)\n",
    "    real_resize_factor = new_shape / slices_hu.shape\n",
    "    new_spacing = spacing / real_resize_factor\n",
    "    \n",
    "    resampled = scipy.ndimage.interpolation.zoom(slices_hu, real_resize_factor)\n",
    "    \n",
    "    # Create the mask for the lungs\n",
    "    lung_mask = mask.apply(sitk.GetImageFromArray(resampled))\n",
    "    lung_mask[lung_mask > 0] = 1\n",
    "    \n",
    "    # Calculate lung volume (in mL) from 3D mask\n",
    "    lung_volume = np.round(lung_mask.sum()/100).astype('int')\n",
    "    \n",
    "    #Apply the mask to the scan, black out anything not lungs with HU -1500\n",
    "    masked = resampled.copy()\n",
    "    masked[(lung_mask == 0)] = -1500\n",
    "    \n",
    "    # Find the borders of the lungs and then crop the empty space\n",
    "    non_empty_rows = []\n",
    "    non_empty_columns = []\n",
    "    for i in range(masked.shape[0]):\n",
    "        non_empty_rows += np.where(masked[i].max(axis=0) > -1400)[0].tolist()\n",
    "        non_empty_columns += np.where(masked[i].max(axis=0) > -1400)[0].tolist()\n",
    "    \n",
    "    cropBox = (min(non_empty_rows), max(non_empty_rows), min(non_empty_columns), max(non_empty_columns))\n",
    "    cropped = masked[:, cropBox[0]:cropBox[1]+1, cropBox[2]:cropBox[3]+1]\n",
    "    \n",
    "    # Clip the minimum and maximum pixel values\n",
    "    clipped = np.clip(cropped, -1000, 500).astype('float32')\n",
    "    \n",
    "    # Scale the pixel values to be between -1 and 1\n",
    "\n",
    "    scaled = np.zeros(clipped.shape)\n",
    "\n",
    "    scaler = MinMaxScaler()\n",
    "    scaler.set_params(feature_range=(-1,1))\n",
    "    for i in range(len(clipped)):\n",
    "        temp = scaler.fit_transform(clipped[i])\n",
    "        scaled[i,:,:] = temp\n",
    "        \n",
    "    # Drop any slices that have nothing or almost nothing in them\n",
    "    filtered = scaled.copy()\n",
    "    todrop = []\n",
    "\n",
    "    for i in range(len(scaled)):\n",
    "        if scaled[i].sum() < (scaled.shape[1]**2 * -0.97):\n",
    "            todrop.append(i)\n",
    "\n",
    "    filtered = np.delete(filtered, todrop, axis=0)\n",
    "    \n",
    "    # Resize the series to 20 x 200 x 200\n",
    "    resized = skimage.transform.resize(filtered, (20,200,200), anti_aliasing=True) \n",
    "    \n",
    "    return resized, lung_volume"
   ]
  },
  {
   "cell_type": "code",
   "execution_count": 4,
   "metadata": {},
   "outputs": [
    {
     "name": "stdout",
     "output_type": "stream",
     "text": [
      "Started processing at 11:11:59.757799\n",
      "Processing series 1 of 175\n"
     ]
    },
    {
     "name": "stderr",
     "output_type": "stream",
     "text": [
      "100%|██████████| 13/13 [00:03<00:00,  4.27it/s]\n",
      "100%|██████████| 6/6 [00:00<00:00, 91.78it/s]\n"
     ]
    },
    {
     "name": "stdout",
     "output_type": "stream",
     "text": [
      "Adding procesed CT to list\n",
      "Series processed in 20s \n",
      "\n",
      "Processing series 2 of 175\n"
     ]
    },
    {
     "name": "stderr",
     "output_type": "stream",
     "text": [
      "100%|██████████| 14/14 [00:03<00:00,  4.30it/s]\n",
      "100%|██████████| 9/9 [00:00<00:00, 170.11it/s]\n"
     ]
    },
    {
     "name": "stdout",
     "output_type": "stream",
     "text": [
      "Adding procesed CT to list\n",
      "Series processed in 19s \n",
      "\n",
      "Processing series 3 of 175\n"
     ]
    },
    {
     "name": "stderr",
     "output_type": "stream",
     "text": [
      "100%|██████████| 18/18 [00:04<00:00,  4.26it/s]\n",
      "100%|██████████| 21/21 [00:00<00:00, 58.19it/s]\n"
     ]
    },
    {
     "name": "stdout",
     "output_type": "stream",
     "text": [
      "Adding procesed CT to list\n",
      "Series processed in 24s \n",
      "\n",
      "Processing series 4 of 175\n"
     ]
    },
    {
     "name": "stderr",
     "output_type": "stream",
     "text": [
      "100%|██████████| 16/16 [00:03<00:00,  4.44it/s]\n",
      "100%|██████████| 4/4 [00:00<00:00, 129.37it/s]\n"
     ]
    },
    {
     "name": "stdout",
     "output_type": "stream",
     "text": [
      "Adding procesed CT to list\n",
      "Series processed in 22s \n",
      "\n",
      "Processing series 5 of 175\n"
     ]
    },
    {
     "name": "stderr",
     "output_type": "stream",
     "text": [
      "100%|██████████| 16/16 [00:03<00:00,  4.34it/s]\n",
      "100%|██████████| 15/15 [00:00<00:00, 53.76it/s]\n"
     ]
    },
    {
     "name": "stdout",
     "output_type": "stream",
     "text": [
      "Adding procesed CT to list\n",
      "Series processed in 31s \n",
      "\n",
      "Processing series 6 of 175\n"
     ]
    },
    {
     "name": "stderr",
     "output_type": "stream",
     "text": [
      "100%|██████████| 15/15 [00:03<00:00,  4.18it/s]\n",
      "100%|██████████| 3/3 [00:00<00:00, 93.09it/s]\n"
     ]
    },
    {
     "name": "stdout",
     "output_type": "stream",
     "text": [
      "Adding procesed CT to list\n",
      "Series processed in 38s \n",
      "\n",
      "Processing series 7 of 175\n"
     ]
    },
    {
     "name": "stderr",
     "output_type": "stream",
     "text": [
      "100%|██████████| 14/14 [00:03<00:00,  4.30it/s]\n",
      "100%|██████████| 7/7 [00:00<00:00, 780.29it/s]\n"
     ]
    },
    {
     "name": "stdout",
     "output_type": "stream",
     "text": [
      "Adding procesed CT to list\n",
      "Series processed in 28s \n",
      "\n",
      "Processing series 8 of 175\n"
     ]
    },
    {
     "name": "stderr",
     "output_type": "stream",
     "text": [
      "100%|██████████| 16/16 [00:03<00:00,  4.28it/s]\n",
      "100%|██████████| 7/7 [00:00<00:00, 49.39it/s]\n"
     ]
    },
    {
     "name": "stdout",
     "output_type": "stream",
     "text": [
      "Adding procesed CT to list\n",
      "Series processed in 24s \n",
      "\n",
      "Processing series 9 of 175\n"
     ]
    },
    {
     "name": "stderr",
     "output_type": "stream",
     "text": [
      "100%|██████████| 16/16 [00:03<00:00,  4.49it/s]\n",
      "100%|██████████| 3/3 [00:00<00:00, 352.51it/s]\n"
     ]
    },
    {
     "name": "stdout",
     "output_type": "stream",
     "text": [
      "Adding procesed CT to list\n",
      "Series processed in 27s \n",
      "\n",
      "Processing series 10 of 175\n"
     ]
    },
    {
     "name": "stderr",
     "output_type": "stream",
     "text": [
      "100%|██████████| 14/14 [00:03<00:00,  4.31it/s]\n",
      "100%|██████████| 2/2 [00:00<00:00, 286.00it/s]\n"
     ]
    },
    {
     "name": "stdout",
     "output_type": "stream",
     "text": [
      "Adding procesed CT to list\n",
      "Series processed in 24s \n",
      "\n",
      "Processing series 11 of 175\n"
     ]
    },
    {
     "name": "stderr",
     "output_type": "stream",
     "text": [
      "100%|██████████| 19/19 [00:04<00:00,  4.42it/s]\n",
      "100%|██████████| 2/2 [00:00<00:00, 242.65it/s]\n"
     ]
    },
    {
     "name": "stdout",
     "output_type": "stream",
     "text": [
      "Adding procesed CT to list\n",
      "Series processed in 26s \n",
      "\n",
      "Processing series 12 of 175\n"
     ]
    },
    {
     "name": "stderr",
     "output_type": "stream",
     "text": [
      "100%|██████████| 14/14 [00:03<00:00,  4.38it/s]\n",
      "100%|██████████| 4/4 [00:00<00:00, 689.12it/s]\n"
     ]
    },
    {
     "name": "stdout",
     "output_type": "stream",
     "text": [
      "Adding procesed CT to list\n",
      "Series processed in 28s \n",
      "\n",
      "Processing series 13 of 175\n"
     ]
    },
    {
     "name": "stderr",
     "output_type": "stream",
     "text": [
      "100%|██████████| 13/13 [00:02<00:00,  4.46it/s]\n",
      "100%|██████████| 18/18 [00:00<00:00, 63.63it/s]\n"
     ]
    },
    {
     "name": "stdout",
     "output_type": "stream",
     "text": [
      "Adding procesed CT to list\n",
      "Series processed in 12s \n",
      "\n",
      "Processing series 14 of 175\n"
     ]
    },
    {
     "name": "stderr",
     "output_type": "stream",
     "text": [
      "100%|██████████| 15/15 [00:03<00:00,  4.48it/s]\n",
      "100%|██████████| 16/16 [00:00<00:00, 89.61it/s] \n"
     ]
    },
    {
     "name": "stdout",
     "output_type": "stream",
     "text": [
      "Adding procesed CT to list\n",
      "Series processed in 24s \n",
      "\n",
      "Processing series 15 of 175\n"
     ]
    },
    {
     "name": "stderr",
     "output_type": "stream",
     "text": [
      "100%|██████████| 21/21 [00:04<00:00,  4.42it/s]\n",
      "100%|██████████| 4/4 [00:00<00:00, 351.26it/s]\n"
     ]
    },
    {
     "name": "stdout",
     "output_type": "stream",
     "text": [
      "Adding procesed CT to list\n",
      "Series processed in 32s \n",
      "\n",
      "Processing series 16 of 175\n"
     ]
    },
    {
     "name": "stderr",
     "output_type": "stream",
     "text": [
      "100%|██████████| 13/13 [00:03<00:00,  4.26it/s]\n",
      "100%|██████████| 6/6 [00:00<00:00, 861.90it/s]\n"
     ]
    },
    {
     "name": "stdout",
     "output_type": "stream",
     "text": [
      "Adding procesed CT to list\n",
      "Series processed in 27s \n",
      "\n",
      "Processing series 17 of 175\n"
     ]
    },
    {
     "name": "stderr",
     "output_type": "stream",
     "text": [
      "100%|██████████| 14/14 [00:03<00:00,  4.31it/s]\n",
      "100%|██████████| 4/4 [00:00<00:00, 81.43it/s]\n"
     ]
    },
    {
     "name": "stdout",
     "output_type": "stream",
     "text": [
      "Adding procesed CT to list\n",
      "Series processed in 22s \n",
      "\n",
      "Processing series 18 of 175\n"
     ]
    },
    {
     "name": "stderr",
     "output_type": "stream",
     "text": [
      "100%|██████████| 9/9 [00:02<00:00,  4.25it/s]\n",
      "100%|██████████| 2/2 [00:00<00:00, 297.84it/s]\n"
     ]
    },
    {
     "name": "stdout",
     "output_type": "stream",
     "text": [
      "Adding procesed CT to list\n",
      "Series processed in 14s \n",
      "\n",
      "Processing series 19 of 175\n"
     ]
    },
    {
     "name": "stderr",
     "output_type": "stream",
     "text": [
      "100%|██████████| 15/15 [00:03<00:00,  4.20it/s]\n",
      "100%|██████████| 10/10 [00:00<00:00, 58.49it/s]\n"
     ]
    },
    {
     "name": "stdout",
     "output_type": "stream",
     "text": [
      "Adding procesed CT to list\n",
      "Series processed in 23s \n",
      "\n",
      "Processing series 20 of 175\n"
     ]
    },
    {
     "name": "stderr",
     "output_type": "stream",
     "text": [
      "100%|██████████| 3/3 [00:00<00:00,  3.73it/s]\n",
      "100%|██████████| 7/7 [00:00<00:00, 456.46it/s]\n"
     ]
    },
    {
     "name": "stdout",
     "output_type": "stream",
     "text": [
      "Adding procesed CT to list\n",
      "Series processed in 4s \n",
      "\n",
      "Processing series 21 of 175\n"
     ]
    },
    {
     "name": "stderr",
     "output_type": "stream",
     "text": [
      "100%|██████████| 15/15 [00:03<00:00,  4.35it/s]\n",
      "100%|██████████| 36/36 [00:00<00:00, 102.67it/s]\n"
     ]
    },
    {
     "name": "stdout",
     "output_type": "stream",
     "text": [
      "Adding procesed CT to list\n",
      "Series processed in 30s \n",
      "\n",
      "Processing series 22 of 175\n"
     ]
    },
    {
     "name": "stderr",
     "output_type": "stream",
     "text": [
      "100%|██████████| 12/12 [00:02<00:00,  4.10it/s]\n",
      "100%|██████████| 3/3 [00:00<00:00, 116.68it/s]\n"
     ]
    },
    {
     "name": "stdout",
     "output_type": "stream",
     "text": [
      "Adding procesed CT to list\n",
      "Series processed in 16s \n",
      "\n",
      "Processing series 23 of 175\n"
     ]
    },
    {
     "name": "stderr",
     "output_type": "stream",
     "text": [
      "100%|██████████| 15/15 [00:03<00:00,  4.27it/s]\n",
      "100%|██████████| 10/10 [00:00<00:00, 80.05it/s]\n"
     ]
    },
    {
     "name": "stdout",
     "output_type": "stream",
     "text": [
      "Adding procesed CT to list\n",
      "Series processed in 17s \n",
      "\n",
      "Processing series 24 of 175\n"
     ]
    },
    {
     "name": "stderr",
     "output_type": "stream",
     "text": [
      "100%|██████████| 19/19 [00:04<00:00,  4.41it/s]\n",
      "100%|██████████| 10/10 [00:00<00:00, 68.31it/s]\n"
     ]
    },
    {
     "name": "stdout",
     "output_type": "stream",
     "text": [
      "Adding procesed CT to list\n",
      "Series processed in 32s \n",
      "\n",
      "Processing series 25 of 175\n"
     ]
    },
    {
     "name": "stderr",
     "output_type": "stream",
     "text": [
      "100%|██████████| 3/3 [00:00<00:00,  3.96it/s]\n",
      "100%|██████████| 3/3 [00:00<00:00, 447.39it/s]\n"
     ]
    },
    {
     "name": "stdout",
     "output_type": "stream",
     "text": [
      "Adding procesed CT to list\n",
      "Series processed in 5s \n",
      "\n",
      "Processing series 26 of 175\n"
     ]
    },
    {
     "name": "stderr",
     "output_type": "stream",
     "text": [
      "100%|██████████| 17/17 [00:03<00:00,  4.34it/s]\n",
      "100%|██████████| 2/2 [00:00<00:00, 185.25it/s]\n"
     ]
    },
    {
     "name": "stdout",
     "output_type": "stream",
     "text": [
      "Adding procesed CT to list\n",
      "Series processed in 39s \n",
      "\n",
      "Processing series 27 of 175\n"
     ]
    },
    {
     "name": "stderr",
     "output_type": "stream",
     "text": [
      "100%|██████████| 16/16 [00:03<00:00,  4.29it/s]\n",
      "100%|██████████| 5/5 [00:00<00:00, 88.52it/s]\n"
     ]
    },
    {
     "name": "stdout",
     "output_type": "stream",
     "text": [
      "Adding procesed CT to list\n",
      "Series processed in 27s \n",
      "\n",
      "Processing series 28 of 175\n"
     ]
    },
    {
     "name": "stderr",
     "output_type": "stream",
     "text": [
      "100%|██████████| 18/18 [00:04<00:00,  4.38it/s]\n",
      "100%|██████████| 3/3 [00:00<00:00, 81.60it/s]\n"
     ]
    },
    {
     "name": "stdout",
     "output_type": "stream",
     "text": [
      "Adding procesed CT to list\n",
      "Series processed in 32s \n",
      "\n",
      "Processing series 29 of 175\n"
     ]
    },
    {
     "name": "stderr",
     "output_type": "stream",
     "text": [
      "100%|██████████| 3/3 [00:00<00:00,  4.31it/s]\n",
      "100%|██████████| 9/9 [00:00<00:00, 610.25it/s]\n"
     ]
    },
    {
     "name": "stdout",
     "output_type": "stream",
     "text": [
      "Adding procesed CT to list\n",
      "Series processed in 5s \n",
      "\n",
      "Processing series 30 of 175\n"
     ]
    },
    {
     "name": "stderr",
     "output_type": "stream",
     "text": [
      "100%|██████████| 15/15 [00:03<00:00,  4.26it/s]\n",
      "100%|██████████| 12/12 [00:00<00:00, 75.82it/s]\n"
     ]
    },
    {
     "name": "stdout",
     "output_type": "stream",
     "text": [
      "Adding procesed CT to list\n",
      "Series processed in 22s \n",
      "\n",
      "Processing series 31 of 175\n"
     ]
    },
    {
     "name": "stderr",
     "output_type": "stream",
     "text": [
      "100%|██████████| 15/15 [00:03<00:00,  4.26it/s]\n",
      "100%|██████████| 4/4 [00:00<00:00, 72.80it/s]\n"
     ]
    },
    {
     "name": "stdout",
     "output_type": "stream",
     "text": [
      "Adding procesed CT to list\n",
      "Series processed in 51s \n",
      "\n",
      "Processing series 32 of 175\n"
     ]
    },
    {
     "name": "stderr",
     "output_type": "stream",
     "text": [
      "100%|██████████| 14/14 [00:03<00:00,  4.34it/s]\n",
      "100%|██████████| 10/10 [00:00<00:00, 110.89it/s]\n"
     ]
    },
    {
     "name": "stdout",
     "output_type": "stream",
     "text": [
      "Adding procesed CT to list\n",
      "Series processed in 25s \n",
      "\n",
      "Processing series 33 of 175\n"
     ]
    },
    {
     "name": "stderr",
     "output_type": "stream",
     "text": [
      "100%|██████████| 11/11 [00:02<00:00,  4.45it/s]\n",
      "100%|██████████| 5/5 [00:00<00:00, 233.50it/s]\n"
     ]
    },
    {
     "name": "stdout",
     "output_type": "stream",
     "text": [
      "Adding procesed CT to list\n",
      "Series processed in 28s \n",
      "\n",
      "Processing series 34 of 175\n"
     ]
    },
    {
     "name": "stderr",
     "output_type": "stream",
     "text": [
      "100%|██████████| 19/19 [00:04<00:00,  4.40it/s]\n",
      "100%|██████████| 18/18 [00:00<00:00, 97.82it/s] \n"
     ]
    },
    {
     "name": "stdout",
     "output_type": "stream",
     "text": [
      "Adding procesed CT to list\n",
      "Series processed in 39s \n",
      "\n",
      "Processing series 35 of 175\n"
     ]
    },
    {
     "name": "stderr",
     "output_type": "stream",
     "text": [
      "100%|██████████| 16/16 [00:03<00:00,  4.43it/s]\n",
      "100%|██████████| 11/11 [00:00<00:00, 65.96it/s]\n"
     ]
    },
    {
     "name": "stdout",
     "output_type": "stream",
     "text": [
      "Adding procesed CT to list\n",
      "Series processed in 23s \n",
      "\n",
      "Processing series 36 of 175\n"
     ]
    },
    {
     "name": "stderr",
     "output_type": "stream",
     "text": [
      "100%|██████████| 17/17 [00:03<00:00,  4.44it/s]\n",
      "100%|██████████| 29/29 [00:00<00:00, 48.03it/s]\n"
     ]
    },
    {
     "name": "stdout",
     "output_type": "stream",
     "text": [
      "Adding procesed CT to list\n",
      "Series processed in 20s \n",
      "\n",
      "Processing series 37 of 175\n"
     ]
    },
    {
     "name": "stderr",
     "output_type": "stream",
     "text": [
      "100%|██████████| 15/15 [00:03<00:00,  4.28it/s]\n",
      "100%|██████████| 123/123 [00:02<00:00, 59.41it/s]\n"
     ]
    },
    {
     "name": "stdout",
     "output_type": "stream",
     "text": [
      "Adding procesed CT to list\n",
      "Series processed in 37s \n",
      "\n",
      "Processing series 38 of 175\n"
     ]
    },
    {
     "name": "stderr",
     "output_type": "stream",
     "text": [
      "100%|██████████| 17/17 [00:03<00:00,  4.39it/s]\n",
      "100%|██████████| 10/10 [00:00<00:00, 50.07it/s]\n"
     ]
    },
    {
     "name": "stdout",
     "output_type": "stream",
     "text": [
      "Adding procesed CT to list\n",
      "Series processed in 23s \n",
      "\n",
      "Processing series 39 of 175\n"
     ]
    },
    {
     "name": "stderr",
     "output_type": "stream",
     "text": [
      "100%|██████████| 13/13 [00:03<00:00,  4.31it/s]\n",
      "100%|██████████| 7/7 [00:00<00:00, 236.99it/s]\n"
     ]
    },
    {
     "name": "stdout",
     "output_type": "stream",
     "text": [
      "Adding procesed CT to list\n",
      "Series processed in 25s \n",
      "\n",
      "Processing series 40 of 175\n"
     ]
    },
    {
     "name": "stderr",
     "output_type": "stream",
     "text": [
      "100%|██████████| 16/16 [00:03<00:00,  4.27it/s]\n",
      "100%|██████████| 7/7 [00:00<00:00, 119.40it/s]\n"
     ]
    },
    {
     "name": "stdout",
     "output_type": "stream",
     "text": [
      "Adding procesed CT to list\n",
      "Series processed in 28s \n",
      "\n",
      "Processing series 41 of 175\n"
     ]
    },
    {
     "name": "stderr",
     "output_type": "stream",
     "text": [
      "100%|██████████| 14/14 [00:03<00:00,  4.46it/s]\n",
      "100%|██████████| 3/3 [00:00<00:00, 383.98it/s]\n"
     ]
    },
    {
     "name": "stdout",
     "output_type": "stream",
     "text": [
      "Adding procesed CT to list\n",
      "Series processed in 21s \n",
      "\n",
      "Processing series 42 of 175\n"
     ]
    },
    {
     "name": "stderr",
     "output_type": "stream",
     "text": [
      "100%|██████████| 12/12 [00:02<00:00,  4.22it/s]\n",
      "100%|██████████| 16/16 [00:00<00:00, 71.10it/s]\n"
     ]
    },
    {
     "name": "stdout",
     "output_type": "stream",
     "text": [
      "Adding procesed CT to list\n",
      "Series processed in 16s \n",
      "\n",
      "Processing series 43 of 175\n"
     ]
    },
    {
     "name": "stderr",
     "output_type": "stream",
     "text": [
      "100%|██████████| 15/15 [00:03<00:00,  4.39it/s]\n",
      "100%|██████████| 28/28 [00:00<00:00, 110.01it/s]\n"
     ]
    },
    {
     "name": "stdout",
     "output_type": "stream",
     "text": [
      "Adding procesed CT to list\n",
      "Series processed in 32s \n",
      "\n",
      "Processing series 44 of 175\n"
     ]
    },
    {
     "name": "stderr",
     "output_type": "stream",
     "text": [
      "100%|██████████| 13/13 [00:02<00:00,  4.37it/s]\n",
      "100%|██████████| 112/112 [00:01<00:00, 92.25it/s]\n"
     ]
    },
    {
     "name": "stdout",
     "output_type": "stream",
     "text": [
      "Adding procesed CT to list\n",
      "Series processed in 26s \n",
      "\n",
      "Processing series 45 of 175\n"
     ]
    },
    {
     "name": "stderr",
     "output_type": "stream",
     "text": [
      "100%|██████████| 18/18 [00:04<00:00,  4.25it/s]\n",
      "100%|██████████| 3/3 [00:00<00:00, 280.64it/s]\n"
     ]
    },
    {
     "name": "stdout",
     "output_type": "stream",
     "text": [
      "Adding procesed CT to list\n",
      "Series processed in 56s \n",
      "\n",
      "Processing series 46 of 175\n"
     ]
    },
    {
     "name": "stderr",
     "output_type": "stream",
     "text": [
      "100%|██████████| 15/15 [00:03<00:00,  4.40it/s]\n",
      "100%|██████████| 9/9 [00:00<00:00, 170.78it/s]\n"
     ]
    },
    {
     "name": "stdout",
     "output_type": "stream",
     "text": [
      "Adding procesed CT to list\n",
      "Series processed in 27s \n",
      "\n",
      "Processing series 47 of 175\n"
     ]
    },
    {
     "name": "stderr",
     "output_type": "stream",
     "text": [
      "100%|██████████| 12/12 [00:02<00:00,  4.23it/s]\n",
      "100%|██████████| 20/20 [00:00<00:00, 72.57it/s]\n"
     ]
    },
    {
     "name": "stdout",
     "output_type": "stream",
     "text": [
      "Adding procesed CT to list\n",
      "Series processed in 17s \n",
      "\n",
      "Processing series 48 of 175\n"
     ]
    },
    {
     "name": "stderr",
     "output_type": "stream",
     "text": [
      "100%|██████████| 15/15 [00:03<00:00,  4.23it/s]\n",
      "100%|██████████| 14/14 [00:00<00:00, 95.99it/s]\n"
     ]
    },
    {
     "name": "stdout",
     "output_type": "stream",
     "text": [
      "Adding procesed CT to list\n",
      "Series processed in 22s \n",
      "\n",
      "Processing series 49 of 175\n"
     ]
    },
    {
     "name": "stderr",
     "output_type": "stream",
     "text": [
      "100%|██████████| 16/16 [00:03<00:00,  4.36it/s]\n",
      "100%|██████████| 59/59 [00:00<00:00, 81.70it/s] \n"
     ]
    },
    {
     "name": "stdout",
     "output_type": "stream",
     "text": [
      "Adding procesed CT to list\n",
      "Series processed in 50s \n",
      "\n",
      "Processing series 50 of 175\n"
     ]
    },
    {
     "name": "stderr",
     "output_type": "stream",
     "text": [
      "100%|██████████| 18/18 [00:04<00:00,  4.44it/s]\n",
      "100%|██████████| 5/5 [00:00<00:00, 510.11it/s]\n"
     ]
    },
    {
     "name": "stdout",
     "output_type": "stream",
     "text": [
      "Adding procesed CT to list\n",
      "Series processed in 33s \n",
      "\n",
      "Processing series 51 of 175\n"
     ]
    },
    {
     "name": "stderr",
     "output_type": "stream",
     "text": [
      "100%|██████████| 14/14 [00:03<00:00,  4.45it/s]\n",
      "100%|██████████| 8/8 [00:00<00:00, 75.88it/s]\n"
     ]
    },
    {
     "name": "stdout",
     "output_type": "stream",
     "text": [
      "Adding procesed CT to list\n",
      "Series processed in 17s \n",
      "\n",
      "Processing series 52 of 175\n"
     ]
    },
    {
     "name": "stderr",
     "output_type": "stream",
     "text": [
      "100%|██████████| 14/14 [00:03<00:00,  4.40it/s]\n",
      "100%|██████████| 11/11 [00:00<00:00, 64.17it/s]\n"
     ]
    },
    {
     "name": "stdout",
     "output_type": "stream",
     "text": [
      "Adding procesed CT to list\n",
      "Series processed in 19s \n",
      "\n",
      "Processing series 53 of 175\n"
     ]
    },
    {
     "name": "stderr",
     "output_type": "stream",
     "text": [
      "100%|██████████| 13/13 [00:03<00:00,  4.30it/s]\n",
      "100%|██████████| 8/8 [00:00<00:00, 125.84it/s]\n"
     ]
    },
    {
     "name": "stdout",
     "output_type": "stream",
     "text": [
      "Adding procesed CT to list\n",
      "Series processed in 25s \n",
      "\n",
      "Processing series 54 of 175\n"
     ]
    },
    {
     "name": "stderr",
     "output_type": "stream",
     "text": [
      "100%|██████████| 26/26 [00:06<00:00,  4.32it/s]\n",
      "100%|██████████| 23/23 [00:00<00:00, 34.62it/s]\n"
     ]
    },
    {
     "name": "stdout",
     "output_type": "stream",
     "text": [
      "Adding procesed CT to list\n",
      "Series processed in 121s \n",
      "\n",
      "Processing series 55 of 175\n"
     ]
    },
    {
     "name": "stderr",
     "output_type": "stream",
     "text": [
      "100%|██████████| 16/16 [00:03<00:00,  4.19it/s]\n",
      "100%|██████████| 3/3 [00:00<00:00, 77.16it/s]\n"
     ]
    },
    {
     "name": "stdout",
     "output_type": "stream",
     "text": [
      "Adding procesed CT to list\n",
      "Series processed in 23s \n",
      "\n",
      "Processing series 56 of 175\n"
     ]
    },
    {
     "name": "stderr",
     "output_type": "stream",
     "text": [
      "100%|██████████| 15/15 [00:03<00:00,  4.13it/s]\n",
      "100%|██████████| 3/3 [00:00<00:00, 91.32it/s]\n"
     ]
    },
    {
     "name": "stdout",
     "output_type": "stream",
     "text": [
      "Adding procesed CT to list\n",
      "Series processed in 28s \n",
      "\n",
      "Processing series 57 of 175\n"
     ]
    },
    {
     "name": "stderr",
     "output_type": "stream",
     "text": [
      "100%|██████████| 16/16 [00:03<00:00,  4.05it/s]\n",
      "100%|██████████| 7/7 [00:00<00:00, 207.32it/s]\n"
     ]
    },
    {
     "name": "stdout",
     "output_type": "stream",
     "text": [
      "Adding procesed CT to list\n",
      "Series processed in 24s \n",
      "\n",
      "Processing series 58 of 175\n"
     ]
    },
    {
     "name": "stderr",
     "output_type": "stream",
     "text": [
      "100%|██████████| 11/11 [00:02<00:00,  4.50it/s]\n",
      "100%|██████████| 8/8 [00:00<00:00, 211.97it/s]\n"
     ]
    },
    {
     "name": "stdout",
     "output_type": "stream",
     "text": [
      "Adding procesed CT to list\n",
      "Series processed in 17s \n",
      "\n",
      "Processing series 59 of 175\n"
     ]
    },
    {
     "name": "stderr",
     "output_type": "stream",
     "text": [
      "100%|██████████| 16/16 [00:03<00:00,  4.18it/s]\n",
      "100%|██████████| 20/20 [00:00<00:00, 82.52it/s] \n"
     ]
    },
    {
     "name": "stdout",
     "output_type": "stream",
     "text": [
      "Adding procesed CT to list\n",
      "Series processed in 24s \n",
      "\n",
      "Processing series 60 of 175\n"
     ]
    },
    {
     "name": "stderr",
     "output_type": "stream",
     "text": [
      "100%|██████████| 13/13 [00:02<00:00,  4.37it/s]\n",
      "100%|██████████| 25/25 [00:00<00:00, 95.18it/s] \n"
     ]
    },
    {
     "name": "stdout",
     "output_type": "stream",
     "text": [
      "Adding procesed CT to list\n",
      "Series processed in 28s \n",
      "\n",
      "Processing series 61 of 175\n"
     ]
    },
    {
     "name": "stderr",
     "output_type": "stream",
     "text": [
      "100%|██████████| 15/15 [00:03<00:00,  4.28it/s]\n",
      "100%|██████████| 3/3 [00:00<00:00, 87.30it/s]\n"
     ]
    },
    {
     "name": "stdout",
     "output_type": "stream",
     "text": [
      "Adding procesed CT to list\n",
      "Series processed in 21s \n",
      "\n",
      "Processing series 62 of 175\n"
     ]
    },
    {
     "name": "stderr",
     "output_type": "stream",
     "text": [
      "100%|██████████| 13/13 [00:03<00:00,  4.24it/s]\n",
      "100%|██████████| 2/2 [00:00<00:00, 273.57it/s]\n"
     ]
    },
    {
     "name": "stdout",
     "output_type": "stream",
     "text": [
      "Adding procesed CT to list\n",
      "Series processed in 20s \n",
      "\n",
      "Processing series 63 of 175\n"
     ]
    },
    {
     "name": "stderr",
     "output_type": "stream",
     "text": [
      "100%|██████████| 14/14 [00:03<00:00,  4.14it/s]\n",
      "100%|██████████| 8/8 [00:00<00:00, 235.90it/s]\n"
     ]
    },
    {
     "name": "stdout",
     "output_type": "stream",
     "text": [
      "Adding procesed CT to list\n",
      "Series processed in 22s \n",
      "\n",
      "Processing series 64 of 175\n"
     ]
    },
    {
     "name": "stderr",
     "output_type": "stream",
     "text": [
      "100%|██████████| 16/16 [00:03<00:00,  4.31it/s]\n",
      "100%|██████████| 17/17 [00:00<00:00, 49.41it/s]\n"
     ]
    },
    {
     "name": "stdout",
     "output_type": "stream",
     "text": [
      "Adding procesed CT to list\n",
      "Series processed in 22s \n",
      "\n",
      "Processing series 65 of 175\n"
     ]
    },
    {
     "name": "stderr",
     "output_type": "stream",
     "text": [
      "100%|██████████| 15/15 [00:03<00:00,  4.06it/s]\n",
      "100%|██████████| 17/17 [00:00<00:00, 49.50it/s]\n"
     ]
    },
    {
     "name": "stdout",
     "output_type": "stream",
     "text": [
      "Adding procesed CT to list\n",
      "Series processed in 21s \n",
      "\n",
      "Processing series 66 of 175\n",
      "libjpeg error code '-1038' returned from Decode(): A misplaced marker segment was found - invalid stream, found invalid huffman code in entropy coded segment\n",
      "Error processing, dropping patient from dataframe\n",
      "Series processed in 0s \n",
      "\n",
      "Processing series 67 of 174\n"
     ]
    },
    {
     "name": "stderr",
     "output_type": "stream",
     "text": [
      "100%|██████████| 14/14 [00:03<00:00,  4.18it/s]\n",
      "100%|██████████| 8/8 [00:00<00:00, 69.61it/s]\n"
     ]
    },
    {
     "name": "stdout",
     "output_type": "stream",
     "text": [
      "Adding procesed CT to list\n",
      "Series processed in 20s \n",
      "\n",
      "Processing series 68 of 174\n"
     ]
    },
    {
     "name": "stderr",
     "output_type": "stream",
     "text": [
      "100%|██████████| 22/22 [00:05<00:00,  4.34it/s]\n",
      "100%|██████████| 11/11 [00:00<00:00, 44.37it/s]\n"
     ]
    },
    {
     "name": "stdout",
     "output_type": "stream",
     "text": [
      "Adding procesed CT to list\n",
      "Series processed in 30s \n",
      "\n",
      "Processing series 69 of 174\n"
     ]
    },
    {
     "name": "stderr",
     "output_type": "stream",
     "text": [
      "100%|██████████| 13/13 [00:03<00:00,  4.33it/s]\n",
      "100%|██████████| 3/3 [00:00<00:00, 120.80it/s]\n"
     ]
    },
    {
     "name": "stdout",
     "output_type": "stream",
     "text": [
      "Adding procesed CT to list\n",
      "Series processed in 24s \n",
      "\n",
      "Processing series 70 of 174\n"
     ]
    },
    {
     "name": "stderr",
     "output_type": "stream",
     "text": [
      "100%|██████████| 14/14 [00:03<00:00,  4.31it/s]\n",
      "100%|██████████| 3/3 [00:00<00:00, 443.26it/s]\n"
     ]
    },
    {
     "name": "stdout",
     "output_type": "stream",
     "text": [
      "Adding procesed CT to list\n",
      "Series processed in 32s \n",
      "\n",
      "Processing series 71 of 174\n"
     ]
    },
    {
     "name": "stderr",
     "output_type": "stream",
     "text": [
      "100%|██████████| 19/19 [00:04<00:00,  4.49it/s]\n",
      "100%|██████████| 6/6 [00:00<00:00, 64.61it/s]\n"
     ]
    },
    {
     "name": "stdout",
     "output_type": "stream",
     "text": [
      "Adding procesed CT to list\n",
      "Series processed in 37s \n",
      "\n",
      "Processing series 72 of 174\n"
     ]
    },
    {
     "name": "stderr",
     "output_type": "stream",
     "text": [
      "100%|██████████| 14/14 [00:03<00:00,  4.29it/s]\n",
      "100%|██████████| 38/38 [00:00<00:00, 91.03it/s] \n"
     ]
    },
    {
     "name": "stdout",
     "output_type": "stream",
     "text": [
      "Adding procesed CT to list\n",
      "Series processed in 26s \n",
      "\n",
      "Processing series 73 of 174\n"
     ]
    },
    {
     "name": "stderr",
     "output_type": "stream",
     "text": [
      "100%|██████████| 19/19 [00:04<00:00,  4.31it/s]\n",
      "100%|██████████| 4/4 [00:00<00:00, 107.53it/s]\n"
     ]
    },
    {
     "name": "stdout",
     "output_type": "stream",
     "text": [
      "Adding procesed CT to list\n",
      "Series processed in 33s \n",
      "\n",
      "Processing series 74 of 174\n"
     ]
    },
    {
     "name": "stderr",
     "output_type": "stream",
     "text": [
      "100%|██████████| 16/16 [00:03<00:00,  4.40it/s]\n",
      "100%|██████████| 12/12 [00:00<00:00, 50.33it/s]\n"
     ]
    },
    {
     "name": "stdout",
     "output_type": "stream",
     "text": [
      "Adding procesed CT to list\n",
      "Series processed in 20s \n",
      "\n",
      "Processing series 75 of 174\n"
     ]
    },
    {
     "name": "stderr",
     "output_type": "stream",
     "text": [
      "100%|██████████| 16/16 [00:03<00:00,  4.30it/s]\n",
      "100%|██████████| 7/7 [00:00<00:00, 192.24it/s]\n"
     ]
    },
    {
     "name": "stdout",
     "output_type": "stream",
     "text": [
      "Adding procesed CT to list\n",
      "Series processed in 19s \n",
      "\n",
      "Processing series 76 of 174\n"
     ]
    },
    {
     "name": "stderr",
     "output_type": "stream",
     "text": [
      "100%|██████████| 17/17 [00:04<00:00,  4.14it/s]\n",
      "100%|██████████| 68/68 [00:01<00:00, 52.42it/s] \n"
     ]
    },
    {
     "name": "stdout",
     "output_type": "stream",
     "text": [
      "Adding procesed CT to list\n",
      "Series processed in 45s \n",
      "\n",
      "Processing series 77 of 174\n"
     ]
    },
    {
     "name": "stderr",
     "output_type": "stream",
     "text": [
      "100%|██████████| 15/15 [00:03<00:00,  4.27it/s]\n",
      "100%|██████████| 14/14 [00:00<00:00, 67.29it/s]\n"
     ]
    },
    {
     "name": "stdout",
     "output_type": "stream",
     "text": [
      "Adding procesed CT to list\n",
      "Series processed in 27s \n",
      "\n",
      "Processing series 78 of 174\n"
     ]
    },
    {
     "name": "stderr",
     "output_type": "stream",
     "text": [
      "100%|██████████| 14/14 [00:03<00:00,  4.27it/s]\n",
      "100%|██████████| 16/16 [00:00<00:00, 53.29it/s]\n"
     ]
    },
    {
     "name": "stdout",
     "output_type": "stream",
     "text": [
      "Adding procesed CT to list\n",
      "Series processed in 17s \n",
      "\n",
      "Processing series 79 of 174\n"
     ]
    },
    {
     "name": "stderr",
     "output_type": "stream",
     "text": [
      "100%|██████████| 17/17 [00:03<00:00,  4.40it/s]\n",
      "100%|██████████| 6/6 [00:00<00:00, 72.43it/s]\n"
     ]
    },
    {
     "name": "stdout",
     "output_type": "stream",
     "text": [
      "Adding procesed CT to list\n",
      "Series processed in 37s \n",
      "\n",
      "Processing series 80 of 174\n"
     ]
    },
    {
     "name": "stderr",
     "output_type": "stream",
     "text": [
      "100%|██████████| 16/16 [00:03<00:00,  4.23it/s]\n",
      "100%|██████████| 9/9 [00:00<00:00, 91.71it/s]\n"
     ]
    },
    {
     "name": "stdout",
     "output_type": "stream",
     "text": [
      "Adding procesed CT to list\n",
      "Series processed in 19s \n",
      "\n",
      "Processing series 81 of 174\n"
     ]
    },
    {
     "name": "stderr",
     "output_type": "stream",
     "text": [
      "100%|██████████| 3/3 [00:00<00:00,  4.38it/s]\n",
      "100%|██████████| 7/7 [00:00<00:00, 372.14it/s]\n"
     ]
    },
    {
     "name": "stdout",
     "output_type": "stream",
     "text": [
      "Adding procesed CT to list\n",
      "Series processed in 5s \n",
      "\n",
      "Processing series 82 of 174\n"
     ]
    },
    {
     "name": "stderr",
     "output_type": "stream",
     "text": [
      "100%|██████████| 13/13 [00:03<00:00,  4.30it/s]\n",
      "100%|██████████| 8/8 [00:00<00:00, 117.18it/s]\n"
     ]
    },
    {
     "name": "stdout",
     "output_type": "stream",
     "text": [
      "Adding procesed CT to list\n",
      "Series processed in 30s \n",
      "\n",
      "Processing series 83 of 174\n"
     ]
    },
    {
     "name": "stderr",
     "output_type": "stream",
     "text": [
      "100%|██████████| 18/18 [00:04<00:00,  4.48it/s]\n",
      "100%|██████████| 3/3 [00:00<00:00, 77.47it/s]\n"
     ]
    },
    {
     "name": "stdout",
     "output_type": "stream",
     "text": [
      "Adding procesed CT to list\n",
      "Series processed in 21s \n",
      "\n",
      "Processing series 84 of 174\n"
     ]
    },
    {
     "name": "stderr",
     "output_type": "stream",
     "text": [
      "100%|██████████| 17/17 [00:03<00:00,  4.37it/s]\n",
      "100%|██████████| 63/63 [00:00<00:00, 66.19it/s] \n"
     ]
    },
    {
     "name": "stdout",
     "output_type": "stream",
     "text": [
      "Adding procesed CT to list\n",
      "Series processed in 23s \n",
      "\n",
      "Processing series 85 of 174\n"
     ]
    },
    {
     "name": "stderr",
     "output_type": "stream",
     "text": [
      "100%|██████████| 15/15 [00:03<00:00,  4.36it/s]\n",
      "100%|██████████| 9/9 [00:00<00:00, 62.35it/s]\n"
     ]
    },
    {
     "name": "stdout",
     "output_type": "stream",
     "text": [
      "Adding procesed CT to list\n",
      "Series processed in 19s \n",
      "\n",
      "Processing series 86 of 174\n"
     ]
    },
    {
     "name": "stderr",
     "output_type": "stream",
     "text": [
      "100%|██████████| 16/16 [00:03<00:00,  4.46it/s]\n",
      "100%|██████████| 62/62 [00:00<00:00, 72.83it/s] \n"
     ]
    },
    {
     "name": "stdout",
     "output_type": "stream",
     "text": [
      "Adding procesed CT to list\n",
      "Series processed in 28s \n",
      "\n",
      "Processing series 87 of 174\n"
     ]
    },
    {
     "name": "stderr",
     "output_type": "stream",
     "text": [
      "100%|██████████| 15/15 [00:03<00:00,  4.40it/s]\n",
      "100%|██████████| 7/7 [00:00<00:00, 72.41it/s]\n"
     ]
    },
    {
     "name": "stdout",
     "output_type": "stream",
     "text": [
      "Adding procesed CT to list\n",
      "Series processed in 23s \n",
      "\n",
      "Processing series 88 of 174\n"
     ]
    },
    {
     "name": "stderr",
     "output_type": "stream",
     "text": [
      "100%|██████████| 16/16 [00:03<00:00,  4.43it/s]\n",
      "100%|██████████| 3/3 [00:00<00:00, 90.79it/s]\n"
     ]
    },
    {
     "name": "stdout",
     "output_type": "stream",
     "text": [
      "Adding procesed CT to list\n",
      "Series processed in 24s \n",
      "\n",
      "Processing series 89 of 174\n"
     ]
    },
    {
     "name": "stderr",
     "output_type": "stream",
     "text": [
      "100%|██████████| 3/3 [00:00<00:00,  4.41it/s]\n",
      "100%|██████████| 85/85 [00:00<00:00, 272.64it/s]\n"
     ]
    },
    {
     "name": "stdout",
     "output_type": "stream",
     "text": [
      "zero-size array to reduction operation minimum which has no identity\n",
      "Error processing, dropping patient from dataframe\n",
      "Series processed in 6s \n",
      "\n",
      "Processing series 90 of 173\n"
     ]
    },
    {
     "name": "stderr",
     "output_type": "stream",
     "text": [
      "100%|██████████| 3/3 [00:00<00:00,  4.35it/s]\n",
      "100%|██████████| 3/3 [00:00<00:00, 1748.36it/s]\n"
     ]
    },
    {
     "name": "stdout",
     "output_type": "stream",
     "text": [
      "Adding procesed CT to list\n",
      "Series processed in 4s \n",
      "\n",
      "Processing series 91 of 173\n"
     ]
    },
    {
     "name": "stderr",
     "output_type": "stream",
     "text": [
      "100%|██████████| 15/15 [00:03<00:00,  4.24it/s]\n",
      "100%|██████████| 7/7 [00:00<00:00, 122.95it/s]\n"
     ]
    },
    {
     "name": "stdout",
     "output_type": "stream",
     "text": [
      "Adding procesed CT to list\n",
      "Series processed in 26s \n",
      "\n",
      "Processing series 92 of 173\n"
     ]
    },
    {
     "name": "stderr",
     "output_type": "stream",
     "text": [
      "100%|██████████| 14/14 [00:03<00:00,  4.37it/s]\n",
      "100%|██████████| 6/6 [00:00<00:00, 83.80it/s]\n"
     ]
    },
    {
     "name": "stdout",
     "output_type": "stream",
     "text": [
      "Adding procesed CT to list\n",
      "Series processed in 25s \n",
      "\n",
      "Processing series 93 of 173\n"
     ]
    },
    {
     "name": "stderr",
     "output_type": "stream",
     "text": [
      "100%|██████████| 14/14 [00:03<00:00,  4.48it/s]\n",
      "100%|██████████| 3/3 [00:00<00:00, 317.92it/s]\n"
     ]
    },
    {
     "name": "stdout",
     "output_type": "stream",
     "text": [
      "Adding procesed CT to list\n",
      "Series processed in 26s \n",
      "\n",
      "Processing series 94 of 173\n"
     ]
    },
    {
     "name": "stderr",
     "output_type": "stream",
     "text": [
      "100%|██████████| 13/13 [00:03<00:00,  4.23it/s]\n",
      "100%|██████████| 16/16 [00:00<00:00, 146.97it/s]\n"
     ]
    },
    {
     "name": "stdout",
     "output_type": "stream",
     "text": [
      "Adding procesed CT to list\n",
      "Series processed in 18s \n",
      "\n",
      "Processing series 95 of 173\n"
     ]
    },
    {
     "name": "stderr",
     "output_type": "stream",
     "text": [
      "100%|██████████| 3/3 [00:00<00:00,  4.16it/s]\n",
      "100%|██████████| 6/6 [00:00<00:00, 873.66it/s]\n"
     ]
    },
    {
     "name": "stdout",
     "output_type": "stream",
     "text": [
      "Adding procesed CT to list\n",
      "Series processed in 5s \n",
      "\n",
      "Processing series 96 of 173\n"
     ]
    },
    {
     "name": "stderr",
     "output_type": "stream",
     "text": [
      "100%|██████████| 11/11 [00:02<00:00,  4.43it/s]\n",
      "100%|██████████| 13/13 [00:00<00:00, 116.67it/s]\n"
     ]
    },
    {
     "name": "stdout",
     "output_type": "stream",
     "text": [
      "Adding procesed CT to list\n",
      "Series processed in 14s \n",
      "\n",
      "Processing series 97 of 173\n"
     ]
    },
    {
     "name": "stderr",
     "output_type": "stream",
     "text": [
      "100%|██████████| 10/10 [00:02<00:00,  4.30it/s]\n",
      "100%|██████████| 8/8 [00:00<00:00, 102.15it/s]\n"
     ]
    },
    {
     "name": "stdout",
     "output_type": "stream",
     "text": [
      "Adding procesed CT to list\n",
      "Series processed in 13s \n",
      "\n",
      "Processing series 98 of 173\n"
     ]
    },
    {
     "name": "stderr",
     "output_type": "stream",
     "text": [
      "100%|██████████| 19/19 [00:04<00:00,  4.22it/s]\n",
      "100%|██████████| 69/69 [00:01<00:00, 53.97it/s] \n"
     ]
    },
    {
     "name": "stdout",
     "output_type": "stream",
     "text": [
      "Adding procesed CT to list\n",
      "Series processed in 26s \n",
      "\n",
      "Processing series 99 of 173\n"
     ]
    },
    {
     "name": "stderr",
     "output_type": "stream",
     "text": [
      "100%|██████████| 13/13 [00:03<00:00,  4.23it/s]\n",
      "100%|██████████| 10/10 [00:00<00:00, 92.53it/s]\n"
     ]
    },
    {
     "name": "stdout",
     "output_type": "stream",
     "text": [
      "Adding procesed CT to list\n",
      "Series processed in 19s \n",
      "\n",
      "Processing series 100 of 173\n"
     ]
    },
    {
     "name": "stderr",
     "output_type": "stream",
     "text": [
      "100%|██████████| 28/28 [00:06<00:00,  4.32it/s]\n",
      "100%|██████████| 12/12 [00:00<00:00, 30.19it/s]\n"
     ]
    },
    {
     "name": "stdout",
     "output_type": "stream",
     "text": [
      "Adding procesed CT to list\n",
      "Series processed in 39s \n",
      "\n",
      "Processing series 101 of 173\n"
     ]
    },
    {
     "name": "stderr",
     "output_type": "stream",
     "text": [
      "100%|██████████| 16/16 [00:03<00:00,  4.41it/s]\n",
      "100%|██████████| 4/4 [00:00<00:00, 125.60it/s]\n"
     ]
    },
    {
     "name": "stdout",
     "output_type": "stream",
     "text": [
      "Adding procesed CT to list\n",
      "Series processed in 22s \n",
      "\n",
      "Processing series 102 of 173\n"
     ]
    },
    {
     "name": "stderr",
     "output_type": "stream",
     "text": [
      "100%|██████████| 14/14 [00:03<00:00,  4.40it/s]\n",
      "100%|██████████| 4/4 [00:00<00:00, 139.52it/s]\n"
     ]
    },
    {
     "name": "stdout",
     "output_type": "stream",
     "text": [
      "Adding procesed CT to list\n",
      "Series processed in 26s \n",
      "\n",
      "Processing series 103 of 173\n"
     ]
    },
    {
     "name": "stderr",
     "output_type": "stream",
     "text": [
      "100%|██████████| 14/14 [00:03<00:00,  4.14it/s]\n",
      "100%|██████████| 11/11 [00:00<00:00, 52.33it/s]\n"
     ]
    },
    {
     "name": "stdout",
     "output_type": "stream",
     "text": [
      "Adding procesed CT to list\n",
      "Series processed in 19s \n",
      "\n",
      "Processing series 104 of 173\n"
     ]
    },
    {
     "name": "stderr",
     "output_type": "stream",
     "text": [
      "100%|██████████| 17/17 [00:03<00:00,  4.44it/s]\n",
      "100%|██████████| 8/8 [00:00<00:00, 57.90it/s]\n"
     ]
    },
    {
     "name": "stdout",
     "output_type": "stream",
     "text": [
      "Adding procesed CT to list\n",
      "Series processed in 20s \n",
      "\n",
      "Processing series 105 of 173\n"
     ]
    },
    {
     "name": "stderr",
     "output_type": "stream",
     "text": [
      "100%|██████████| 14/14 [00:03<00:00,  4.42it/s]\n",
      "100%|██████████| 4/4 [00:00<00:00, 80.12it/s]\n"
     ]
    },
    {
     "name": "stdout",
     "output_type": "stream",
     "text": [
      "Adding procesed CT to list\n",
      "Series processed in 17s \n",
      "\n",
      "Processing series 106 of 173\n"
     ]
    },
    {
     "name": "stderr",
     "output_type": "stream",
     "text": [
      "100%|██████████| 16/16 [00:03<00:00,  4.28it/s]\n",
      "100%|██████████| 5/5 [00:00<00:00, 487.26it/s]\n"
     ]
    },
    {
     "name": "stdout",
     "output_type": "stream",
     "text": [
      "Adding procesed CT to list\n",
      "Series processed in 38s \n",
      "\n",
      "Processing series 107 of 173\n"
     ]
    },
    {
     "name": "stderr",
     "output_type": "stream",
     "text": [
      "100%|██████████| 18/18 [00:04<00:00,  4.29it/s]\n",
      "100%|██████████| 4/4 [00:00<00:00, 65.43it/s]\n"
     ]
    },
    {
     "name": "stdout",
     "output_type": "stream",
     "text": [
      "Adding procesed CT to list\n",
      "Series processed in 29s \n",
      "\n",
      "Processing series 108 of 173\n"
     ]
    },
    {
     "name": "stderr",
     "output_type": "stream",
     "text": [
      "100%|██████████| 13/13 [00:02<00:00,  4.53it/s]\n",
      "100%|██████████| 20/20 [00:00<00:00, 65.38it/s]\n"
     ]
    },
    {
     "name": "stdout",
     "output_type": "stream",
     "text": [
      "Adding procesed CT to list\n",
      "Series processed in 20s \n",
      "\n",
      "Processing series 109 of 173\n"
     ]
    },
    {
     "name": "stderr",
     "output_type": "stream",
     "text": [
      "100%|██████████| 17/17 [00:03<00:00,  4.42it/s]\n",
      "100%|██████████| 12/12 [00:00<00:00, 86.30it/s]\n"
     ]
    },
    {
     "name": "stdout",
     "output_type": "stream",
     "text": [
      "Adding procesed CT to list\n",
      "Series processed in 38s \n",
      "\n",
      "Processing series 110 of 173\n"
     ]
    },
    {
     "name": "stderr",
     "output_type": "stream",
     "text": [
      "100%|██████████| 13/13 [00:03<00:00,  4.25it/s]\n",
      "100%|██████████| 4/4 [00:00<00:00, 89.95it/s]\n"
     ]
    },
    {
     "name": "stdout",
     "output_type": "stream",
     "text": [
      "Adding procesed CT to list\n",
      "Series processed in 18s \n",
      "\n",
      "Processing series 111 of 173\n"
     ]
    },
    {
     "name": "stderr",
     "output_type": "stream",
     "text": [
      "100%|██████████| 15/15 [00:03<00:00,  4.50it/s]\n",
      "100%|██████████| 2/2 [00:00<00:00, 248.69it/s]\n"
     ]
    },
    {
     "name": "stdout",
     "output_type": "stream",
     "text": [
      "Adding procesed CT to list\n",
      "Series processed in 20s \n",
      "\n",
      "Processing series 112 of 173\n"
     ]
    },
    {
     "name": "stderr",
     "output_type": "stream",
     "text": [
      "100%|██████████| 15/15 [00:03<00:00,  4.45it/s]\n",
      "100%|██████████| 7/7 [00:00<00:00, 58.00it/s]\n"
     ]
    },
    {
     "name": "stdout",
     "output_type": "stream",
     "text": [
      "Adding procesed CT to list\n",
      "Series processed in 20s \n",
      "\n",
      "Processing series 113 of 173\n"
     ]
    },
    {
     "name": "stderr",
     "output_type": "stream",
     "text": [
      "100%|██████████| 16/16 [00:03<00:00,  4.56it/s]\n",
      "100%|██████████| 15/15 [00:00<00:00, 87.75it/s]\n"
     ]
    },
    {
     "name": "stdout",
     "output_type": "stream",
     "text": [
      "Adding procesed CT to list\n",
      "Series processed in 28s \n",
      "\n",
      "Processing series 114 of 173\n"
     ]
    },
    {
     "name": "stderr",
     "output_type": "stream",
     "text": [
      "<ipython-input-3-662dc14b54d9>:60: RuntimeWarning: invalid value encountered in true_divide\n",
      "  new_spacing = spacing / real_resize_factor\n"
     ]
    },
    {
     "name": "stdout",
     "output_type": "stream",
     "text": [
      "Size mismatch of image and Buffer.\n",
      "Error processing, dropping patient from dataframe\n",
      "Series processed in 42s \n",
      "\n",
      "Processing series 115 of 172\n"
     ]
    },
    {
     "name": "stderr",
     "output_type": "stream",
     "text": [
      "100%|██████████| 19/19 [00:04<00:00,  4.48it/s]\n",
      "100%|██████████| 6/6 [00:00<00:00, 154.81it/s]\n"
     ]
    },
    {
     "name": "stdout",
     "output_type": "stream",
     "text": [
      "Adding procesed CT to list\n",
      "Series processed in 36s \n",
      "\n",
      "Processing series 116 of 172\n"
     ]
    },
    {
     "name": "stderr",
     "output_type": "stream",
     "text": [
      "100%|██████████| 16/16 [00:03<00:00,  4.41it/s]\n",
      "100%|██████████| 11/11 [00:00<00:00, 73.08it/s]\n"
     ]
    },
    {
     "name": "stdout",
     "output_type": "stream",
     "text": [
      "Adding procesed CT to list\n",
      "Series processed in 22s \n",
      "\n",
      "Processing series 117 of 172\n"
     ]
    },
    {
     "name": "stderr",
     "output_type": "stream",
     "text": [
      "100%|██████████| 14/14 [00:03<00:00,  3.97it/s]\n",
      "100%|██████████| 103/103 [00:01<00:00, 69.50it/s]\n"
     ]
    },
    {
     "name": "stdout",
     "output_type": "stream",
     "text": [
      "Adding procesed CT to list\n",
      "Series processed in 60s \n",
      "\n",
      "Processing series 118 of 172\n"
     ]
    },
    {
     "name": "stderr",
     "output_type": "stream",
     "text": [
      "100%|██████████| 15/15 [00:03<00:00,  4.30it/s]\n",
      "100%|██████████| 15/15 [00:00<00:00, 124.21it/s]\n"
     ]
    },
    {
     "name": "stdout",
     "output_type": "stream",
     "text": [
      "Adding procesed CT to list\n",
      "Series processed in 31s \n",
      "\n",
      "Processing series 119 of 172\n"
     ]
    },
    {
     "name": "stderr",
     "output_type": "stream",
     "text": [
      "100%|██████████| 19/19 [00:04<00:00,  4.38it/s]\n",
      "100%|██████████| 3/3 [00:00<00:00, 74.05it/s]\n"
     ]
    },
    {
     "name": "stdout",
     "output_type": "stream",
     "text": [
      "Adding procesed CT to list\n",
      "Series processed in 27s \n",
      "\n",
      "Processing series 120 of 172\n"
     ]
    },
    {
     "name": "stderr",
     "output_type": "stream",
     "text": [
      "100%|██████████| 15/15 [00:03<00:00,  4.15it/s]\n",
      "100%|██████████| 8/8 [00:00<00:00, 65.75it/s]\n"
     ]
    },
    {
     "name": "stdout",
     "output_type": "stream",
     "text": [
      "Adding procesed CT to list\n",
      "Series processed in 27s \n",
      "\n",
      "Processing series 121 of 172\n"
     ]
    },
    {
     "name": "stderr",
     "output_type": "stream",
     "text": [
      "100%|██████████| 12/12 [00:02<00:00,  4.06it/s]\n",
      "100%|██████████| 5/5 [00:00<00:00, 78.28it/s]\n"
     ]
    },
    {
     "name": "stdout",
     "output_type": "stream",
     "text": [
      "Adding procesed CT to list\n",
      "Series processed in 17s \n",
      "\n",
      "Processing series 122 of 172\n"
     ]
    },
    {
     "name": "stderr",
     "output_type": "stream",
     "text": [
      "100%|██████████| 13/13 [00:03<00:00,  4.18it/s]\n",
      "100%|██████████| 12/12 [00:00<00:00, 77.27it/s]\n"
     ]
    },
    {
     "name": "stdout",
     "output_type": "stream",
     "text": [
      "Adding procesed CT to list\n",
      "Series processed in 28s \n",
      "\n",
      "Processing series 123 of 172\n"
     ]
    },
    {
     "name": "stderr",
     "output_type": "stream",
     "text": [
      "100%|██████████| 15/15 [00:03<00:00,  4.26it/s]\n",
      "100%|██████████| 7/7 [00:00<00:00, 71.62it/s]\n"
     ]
    },
    {
     "name": "stdout",
     "output_type": "stream",
     "text": [
      "Adding procesed CT to list\n",
      "Series processed in 42s \n",
      "\n",
      "Processing series 124 of 172\n"
     ]
    },
    {
     "name": "stderr",
     "output_type": "stream",
     "text": [
      "100%|██████████| 15/15 [00:03<00:00,  4.37it/s]\n",
      "100%|██████████| 7/7 [00:00<00:00, 133.71it/s]\n"
     ]
    },
    {
     "name": "stdout",
     "output_type": "stream",
     "text": [
      "Adding procesed CT to list\n",
      "Series processed in 32s \n",
      "\n",
      "Processing series 125 of 172\n"
     ]
    },
    {
     "name": "stderr",
     "output_type": "stream",
     "text": [
      "100%|██████████| 14/14 [00:03<00:00,  4.22it/s]\n",
      "100%|██████████| 3/3 [00:00<00:00, 94.71it/s]\n"
     ]
    },
    {
     "name": "stdout",
     "output_type": "stream",
     "text": [
      "Adding procesed CT to list\n",
      "Series processed in 22s \n",
      "\n",
      "Processing series 126 of 172\n"
     ]
    },
    {
     "name": "stderr",
     "output_type": "stream",
     "text": [
      "100%|██████████| 15/15 [00:03<00:00,  4.45it/s]\n",
      "100%|██████████| 6/6 [00:00<00:00, 184.50it/s]\n"
     ]
    },
    {
     "name": "stdout",
     "output_type": "stream",
     "text": [
      "Adding procesed CT to list\n",
      "Series processed in 34s \n",
      "\n",
      "Processing series 127 of 172\n"
     ]
    },
    {
     "name": "stderr",
     "output_type": "stream",
     "text": [
      "100%|██████████| 18/18 [00:04<00:00,  4.37it/s]\n",
      "100%|██████████| 15/15 [00:00<00:00, 59.68it/s]\n"
     ]
    },
    {
     "name": "stdout",
     "output_type": "stream",
     "text": [
      "Adding procesed CT to list\n",
      "Series processed in 24s \n",
      "\n",
      "Processing series 128 of 172\n"
     ]
    },
    {
     "name": "stderr",
     "output_type": "stream",
     "text": [
      "100%|██████████| 12/12 [00:02<00:00,  4.22it/s]\n",
      "100%|██████████| 28/28 [00:00<00:00, 91.79it/s] \n"
     ]
    },
    {
     "name": "stdout",
     "output_type": "stream",
     "text": [
      "Adding procesed CT to list\n",
      "Series processed in 17s \n",
      "\n",
      "Processing series 129 of 172\n"
     ]
    },
    {
     "name": "stderr",
     "output_type": "stream",
     "text": [
      "100%|██████████| 18/18 [00:04<00:00,  4.38it/s]\n",
      "100%|██████████| 5/5 [00:00<00:00, 73.55it/s]\n"
     ]
    },
    {
     "name": "stdout",
     "output_type": "stream",
     "text": [
      "Adding procesed CT to list\n",
      "Series processed in 37s \n",
      "\n",
      "Processing series 130 of 172\n"
     ]
    },
    {
     "name": "stderr",
     "output_type": "stream",
     "text": [
      "100%|██████████| 18/18 [00:03<00:00,  4.50it/s]\n",
      "100%|██████████| 10/10 [00:00<00:00, 54.62it/s]\n"
     ]
    },
    {
     "name": "stdout",
     "output_type": "stream",
     "text": [
      "Adding procesed CT to list\n",
      "Series processed in 38s \n",
      "\n",
      "Processing series 131 of 172\n"
     ]
    },
    {
     "name": "stderr",
     "output_type": "stream",
     "text": [
      "100%|██████████| 2/2 [00:00<00:00,  4.20it/s]\n",
      "100%|██████████| 3/3 [00:00<00:00, 750.19it/s]\n"
     ]
    },
    {
     "name": "stdout",
     "output_type": "stream",
     "text": [
      "Adding procesed CT to list\n",
      "Series processed in 5s \n",
      "\n",
      "Processing series 132 of 172\n"
     ]
    },
    {
     "name": "stderr",
     "output_type": "stream",
     "text": [
      "100%|██████████| 17/17 [00:03<00:00,  4.26it/s]\n",
      "100%|██████████| 15/15 [00:00<00:00, 52.84it/s]\n"
     ]
    },
    {
     "name": "stdout",
     "output_type": "stream",
     "text": [
      "Adding procesed CT to list\n",
      "Series processed in 25s \n",
      "\n",
      "Processing series 133 of 172\n"
     ]
    },
    {
     "name": "stderr",
     "output_type": "stream",
     "text": [
      "100%|██████████| 16/16 [00:03<00:00,  4.23it/s]\n",
      "100%|██████████| 6/6 [00:00<00:00, 175.66it/s]\n"
     ]
    },
    {
     "name": "stdout",
     "output_type": "stream",
     "text": [
      "Adding procesed CT to list\n",
      "Series processed in 23s \n",
      "\n",
      "Processing series 134 of 172\n"
     ]
    },
    {
     "name": "stderr",
     "output_type": "stream",
     "text": [
      "100%|██████████| 13/13 [00:02<00:00,  4.50it/s]\n",
      "100%|██████████| 41/41 [00:00<00:00, 83.72it/s] \n"
     ]
    },
    {
     "name": "stdout",
     "output_type": "stream",
     "text": [
      "Adding procesed CT to list\n",
      "Series processed in 18s \n",
      "\n",
      "Processing series 135 of 172\n"
     ]
    },
    {
     "name": "stderr",
     "output_type": "stream",
     "text": [
      "100%|██████████| 15/15 [00:03<00:00,  4.26it/s]\n",
      "100%|██████████| 3/3 [00:00<00:00, 102.03it/s]\n"
     ]
    },
    {
     "name": "stdout",
     "output_type": "stream",
     "text": [
      "Adding procesed CT to list\n",
      "Series processed in 32s \n",
      "\n",
      "Processing series 136 of 172\n"
     ]
    },
    {
     "name": "stderr",
     "output_type": "stream",
     "text": [
      "100%|██████████| 12/12 [00:02<00:00,  4.38it/s]\n",
      "100%|██████████| 3/3 [00:00<00:00, 381.95it/s]\n"
     ]
    },
    {
     "name": "stdout",
     "output_type": "stream",
     "text": [
      "Adding procesed CT to list\n",
      "Series processed in 29s \n",
      "\n",
      "Processing series 137 of 172\n"
     ]
    },
    {
     "name": "stderr",
     "output_type": "stream",
     "text": [
      "100%|██████████| 16/16 [00:03<00:00,  4.45it/s]\n",
      "100%|██████████| 13/13 [00:00<00:00, 77.91it/s]\n"
     ]
    },
    {
     "name": "stdout",
     "output_type": "stream",
     "text": [
      "Adding procesed CT to list\n",
      "Series processed in 23s \n",
      "\n",
      "Processing series 138 of 172\n"
     ]
    },
    {
     "name": "stderr",
     "output_type": "stream",
     "text": [
      "100%|██████████| 14/14 [00:03<00:00,  4.38it/s]\n",
      "100%|██████████| 2/2 [00:00<00:00, 235.87it/s]\n"
     ]
    },
    {
     "name": "stdout",
     "output_type": "stream",
     "text": [
      "Adding procesed CT to list\n",
      "Series processed in 19s \n",
      "\n",
      "Processing series 139 of 172\n"
     ]
    },
    {
     "name": "stderr",
     "output_type": "stream",
     "text": [
      "100%|██████████| 18/18 [00:04<00:00,  4.29it/s]\n",
      "100%|██████████| 16/16 [00:00<00:00, 181.09it/s]\n"
     ]
    },
    {
     "name": "stdout",
     "output_type": "stream",
     "text": [
      "Adding procesed CT to list\n",
      "Series processed in 46s \n",
      "\n",
      "Processing series 140 of 172\n"
     ]
    },
    {
     "name": "stderr",
     "output_type": "stream",
     "text": [
      "100%|██████████| 16/16 [00:03<00:00,  4.40it/s]\n",
      "100%|██████████| 82/82 [00:01<00:00, 47.80it/s] \n"
     ]
    },
    {
     "name": "stdout",
     "output_type": "stream",
     "text": [
      "Adding procesed CT to list\n",
      "Series processed in 52s \n",
      "\n",
      "Processing series 141 of 172\n"
     ]
    },
    {
     "name": "stderr",
     "output_type": "stream",
     "text": [
      "100%|██████████| 18/18 [00:04<00:00,  4.37it/s]\n",
      "100%|██████████| 115/115 [00:01<00:00, 76.73it/s]\n"
     ]
    },
    {
     "name": "stdout",
     "output_type": "stream",
     "text": [
      "Adding procesed CT to list\n",
      "Series processed in 36s \n",
      "\n",
      "Processing series 142 of 172\n"
     ]
    },
    {
     "name": "stderr",
     "output_type": "stream",
     "text": [
      "100%|██████████| 16/16 [00:03<00:00,  4.25it/s]\n",
      "100%|██████████| 6/6 [00:00<00:00, 102.78it/s]\n"
     ]
    },
    {
     "name": "stdout",
     "output_type": "stream",
     "text": [
      "Adding procesed CT to list\n",
      "Series processed in 25s \n",
      "\n",
      "Processing series 143 of 172\n"
     ]
    },
    {
     "name": "stderr",
     "output_type": "stream",
     "text": [
      "100%|██████████| 17/17 [00:03<00:00,  4.30it/s]\n",
      "100%|██████████| 14/14 [00:00<00:00, 49.58it/s]\n"
     ]
    },
    {
     "name": "stdout",
     "output_type": "stream",
     "text": [
      "Adding procesed CT to list\n",
      "Series processed in 24s \n",
      "\n",
      "Processing series 144 of 172\n"
     ]
    },
    {
     "name": "stderr",
     "output_type": "stream",
     "text": [
      "100%|██████████| 19/19 [00:04<00:00,  4.23it/s]\n",
      "100%|██████████| 3/3 [00:00<00:00, 80.38it/s]\n"
     ]
    },
    {
     "name": "stdout",
     "output_type": "stream",
     "text": [
      "Adding procesed CT to list\n",
      "Series processed in 36s \n",
      "\n",
      "Processing series 145 of 172\n"
     ]
    },
    {
     "name": "stderr",
     "output_type": "stream",
     "text": [
      "100%|██████████| 12/12 [00:02<00:00,  4.18it/s]\n",
      "100%|██████████| 162/162 [00:02<00:00, 57.24it/s]\n"
     ]
    },
    {
     "name": "stdout",
     "output_type": "stream",
     "text": [
      "zero-size array to reduction operation minimum which has no identity\n",
      "Error processing, dropping patient from dataframe\n",
      "Series processed in 29s \n",
      "\n",
      "Processing series 146 of 171\n"
     ]
    },
    {
     "name": "stderr",
     "output_type": "stream",
     "text": [
      "100%|██████████| 21/21 [00:04<00:00,  4.42it/s]\n",
      "0it [00:00, ?it/s]\n"
     ]
    },
    {
     "name": "stdout",
     "output_type": "stream",
     "text": [
      "min() arg is an empty sequence\n",
      "Error processing, dropping patient from dataframe\n",
      "Series processed in 39s \n",
      "\n",
      "Processing series 147 of 170\n"
     ]
    },
    {
     "name": "stderr",
     "output_type": "stream",
     "text": [
      "100%|██████████| 15/15 [00:03<00:00,  4.44it/s]\n",
      "100%|██████████| 59/59 [00:00<00:00, 80.39it/s] \n"
     ]
    },
    {
     "name": "stdout",
     "output_type": "stream",
     "text": [
      "Adding procesed CT to list\n",
      "Series processed in 31s \n",
      "\n",
      "Processing series 148 of 170\n"
     ]
    },
    {
     "name": "stderr",
     "output_type": "stream",
     "text": [
      "100%|██████████| 19/19 [00:04<00:00,  4.40it/s]\n",
      "100%|██████████| 7/7 [00:00<00:00, 56.52it/s]\n"
     ]
    },
    {
     "name": "stdout",
     "output_type": "stream",
     "text": [
      "Adding procesed CT to list\n",
      "Series processed in 24s \n",
      "\n",
      "Processing series 149 of 170\n"
     ]
    },
    {
     "name": "stderr",
     "output_type": "stream",
     "text": [
      "100%|██████████| 13/13 [00:02<00:00,  4.47it/s]\n",
      "100%|██████████| 3/3 [00:00<00:00, 118.38it/s]\n"
     ]
    },
    {
     "name": "stdout",
     "output_type": "stream",
     "text": [
      "Adding procesed CT to list\n",
      "Series processed in 25s \n",
      "\n",
      "Processing series 150 of 170\n"
     ]
    },
    {
     "name": "stderr",
     "output_type": "stream",
     "text": [
      "100%|██████████| 17/17 [00:03<00:00,  4.39it/s]\n",
      "100%|██████████| 16/16 [00:00<00:00, 52.14it/s]\n"
     ]
    },
    {
     "name": "stdout",
     "output_type": "stream",
     "text": [
      "Adding procesed CT to list\n",
      "Series processed in 26s \n",
      "\n",
      "Processing series 151 of 170\n"
     ]
    },
    {
     "name": "stderr",
     "output_type": "stream",
     "text": [
      "100%|██████████| 15/15 [00:03<00:00,  4.20it/s]\n",
      "100%|██████████| 8/8 [00:00<00:00, 232.94it/s]\n"
     ]
    },
    {
     "name": "stdout",
     "output_type": "stream",
     "text": [
      "Adding procesed CT to list\n",
      "Series processed in 22s \n",
      "\n",
      "Processing series 152 of 170\n"
     ]
    },
    {
     "name": "stderr",
     "output_type": "stream",
     "text": [
      "100%|██████████| 14/14 [00:03<00:00,  4.44it/s]\n",
      "100%|██████████| 7/7 [00:00<00:00, 79.96it/s]\n"
     ]
    },
    {
     "name": "stdout",
     "output_type": "stream",
     "text": [
      "Adding procesed CT to list\n",
      "Series processed in 23s \n",
      "\n",
      "Processing series 153 of 170\n"
     ]
    },
    {
     "name": "stderr",
     "output_type": "stream",
     "text": [
      "100%|██████████| 16/16 [00:03<00:00,  4.18it/s]\n",
      "100%|██████████| 314/314 [00:03<00:00, 101.95it/s] \n"
     ]
    },
    {
     "name": "stdout",
     "output_type": "stream",
     "text": [
      "Adding procesed CT to list\n",
      "Series processed in 56s \n",
      "\n",
      "Processing series 154 of 170\n"
     ]
    },
    {
     "name": "stderr",
     "output_type": "stream",
     "text": [
      "100%|██████████| 12/12 [00:02<00:00,  4.39it/s]\n",
      "100%|██████████| 4/4 [00:00<00:00, 620.21it/s]\n"
     ]
    },
    {
     "name": "stdout",
     "output_type": "stream",
     "text": [
      "Adding procesed CT to list\n",
      "Series processed in 27s \n",
      "\n",
      "Processing series 155 of 170\n"
     ]
    },
    {
     "name": "stderr",
     "output_type": "stream",
     "text": [
      "100%|██████████| 16/16 [00:03<00:00,  4.24it/s]\n",
      "100%|██████████| 42/42 [00:00<00:00, 58.50it/s] \n"
     ]
    },
    {
     "name": "stdout",
     "output_type": "stream",
     "text": [
      "Adding procesed CT to list\n",
      "Series processed in 26s \n",
      "\n",
      "Processing series 156 of 170\n"
     ]
    },
    {
     "name": "stderr",
     "output_type": "stream",
     "text": [
      "100%|██████████| 16/16 [00:03<00:00,  4.17it/s]\n",
      "100%|██████████| 6/6 [00:00<00:00, 54.82it/s]\n"
     ]
    },
    {
     "name": "stdout",
     "output_type": "stream",
     "text": [
      "Adding procesed CT to list\n",
      "Series processed in 24s \n",
      "\n",
      "Processing series 157 of 170\n"
     ]
    },
    {
     "name": "stderr",
     "output_type": "stream",
     "text": [
      "100%|██████████| 13/13 [00:03<00:00,  4.29it/s]\n",
      "100%|██████████| 4/4 [00:00<00:00, 121.37it/s]\n"
     ]
    },
    {
     "name": "stdout",
     "output_type": "stream",
     "text": [
      "Adding procesed CT to list\n",
      "Series processed in 19s \n",
      "\n",
      "Processing series 158 of 170\n"
     ]
    },
    {
     "name": "stderr",
     "output_type": "stream",
     "text": [
      "100%|██████████| 16/16 [00:03<00:00,  4.27it/s]\n",
      "100%|██████████| 2/2 [00:00<00:00, 178.43it/s]\n"
     ]
    },
    {
     "name": "stdout",
     "output_type": "stream",
     "text": [
      "Adding procesed CT to list\n",
      "Series processed in 29s \n",
      "\n",
      "Processing series 159 of 170\n"
     ]
    },
    {
     "name": "stderr",
     "output_type": "stream",
     "text": [
      "100%|██████████| 2/2 [00:00<00:00,  4.32it/s]\n",
      "100%|██████████| 2/2 [00:00<00:00, 2182.26it/s]\n"
     ]
    },
    {
     "name": "stdout",
     "output_type": "stream",
     "text": [
      "Adding procesed CT to list\n",
      "Series processed in 3s \n",
      "\n",
      "Processing series 160 of 170\n"
     ]
    },
    {
     "name": "stderr",
     "output_type": "stream",
     "text": [
      "100%|██████████| 16/16 [00:03<00:00,  4.15it/s]\n",
      "100%|██████████| 35/35 [00:00<00:00, 82.38it/s] \n"
     ]
    },
    {
     "name": "stdout",
     "output_type": "stream",
     "text": [
      "Adding procesed CT to list\n",
      "Series processed in 56s \n",
      "\n",
      "Processing series 161 of 170\n"
     ]
    },
    {
     "name": "stderr",
     "output_type": "stream",
     "text": [
      "100%|██████████| 16/16 [00:03<00:00,  4.14it/s]\n",
      "100%|██████████| 3/3 [00:00<00:00, 87.12it/s]\n"
     ]
    },
    {
     "name": "stdout",
     "output_type": "stream",
     "text": [
      "Adding procesed CT to list\n",
      "Series processed in 22s \n",
      "\n",
      "Processing series 162 of 170\n"
     ]
    },
    {
     "name": "stderr",
     "output_type": "stream",
     "text": [
      "100%|██████████| 18/18 [00:04<00:00,  4.10it/s]\n",
      "100%|██████████| 180/180 [00:02<00:00, 71.01it/s] \n"
     ]
    },
    {
     "name": "stdout",
     "output_type": "stream",
     "text": [
      "Adding procesed CT to list\n",
      "Series processed in 56s \n",
      "\n",
      "Processing series 163 of 170\n"
     ]
    },
    {
     "name": "stderr",
     "output_type": "stream",
     "text": [
      "100%|██████████| 16/16 [00:03<00:00,  4.43it/s]\n",
      "100%|██████████| 4/4 [00:00<00:00, 71.88it/s]\n"
     ]
    },
    {
     "name": "stdout",
     "output_type": "stream",
     "text": [
      "Adding procesed CT to list\n",
      "Series processed in 24s \n",
      "\n",
      "Processing series 164 of 170\n"
     ]
    },
    {
     "name": "stderr",
     "output_type": "stream",
     "text": [
      "100%|██████████| 12/12 [00:02<00:00,  4.55it/s]\n",
      "100%|██████████| 3/3 [00:00<00:00, 444.11it/s]\n"
     ]
    },
    {
     "name": "stdout",
     "output_type": "stream",
     "text": [
      "Adding procesed CT to list\n",
      "Series processed in 23s \n",
      "\n",
      "Processing series 165 of 170\n"
     ]
    },
    {
     "name": "stderr",
     "output_type": "stream",
     "text": [
      "100%|██████████| 12/12 [00:02<00:00,  4.23it/s]\n",
      "100%|██████████| 19/19 [00:00<00:00, 81.93it/s]\n"
     ]
    },
    {
     "name": "stdout",
     "output_type": "stream",
     "text": [
      "Adding procesed CT to list\n",
      "Series processed in 30s \n",
      "\n",
      "Processing series 166 of 170\n"
     ]
    },
    {
     "name": "stderr",
     "output_type": "stream",
     "text": [
      "100%|██████████| 13/13 [00:02<00:00,  4.40it/s]\n",
      "100%|██████████| 22/22 [00:00<00:00, 77.19it/s] \n"
     ]
    },
    {
     "name": "stdout",
     "output_type": "stream",
     "text": [
      "Adding procesed CT to list\n",
      "Series processed in 18s \n",
      "\n",
      "Processing series 167 of 170\n"
     ]
    },
    {
     "name": "stderr",
     "output_type": "stream",
     "text": [
      "100%|██████████| 13/13 [00:02<00:00,  4.37it/s]\n",
      "100%|██████████| 7/7 [00:00<00:00, 249.80it/s]\n"
     ]
    },
    {
     "name": "stdout",
     "output_type": "stream",
     "text": [
      "Adding procesed CT to list\n",
      "Series processed in 18s \n",
      "\n",
      "Processing series 168 of 170\n"
     ]
    },
    {
     "name": "stderr",
     "output_type": "stream",
     "text": [
      "100%|██████████| 13/13 [00:03<00:00,  4.13it/s]\n",
      "100%|██████████| 6/6 [00:00<00:00, 217.42it/s]\n"
     ]
    },
    {
     "name": "stdout",
     "output_type": "stream",
     "text": [
      "Adding procesed CT to list\n",
      "Series processed in 29s \n",
      "\n",
      "Processing series 169 of 170\n"
     ]
    },
    {
     "name": "stderr",
     "output_type": "stream",
     "text": [
      "100%|██████████| 18/18 [00:04<00:00,  4.38it/s]\n",
      "100%|██████████| 44/44 [00:00<00:00, 78.99it/s] \n"
     ]
    },
    {
     "name": "stdout",
     "output_type": "stream",
     "text": [
      "Adding procesed CT to list\n",
      "Series processed in 32s \n",
      "\n",
      "Processing series 170 of 170\n"
     ]
    },
    {
     "name": "stderr",
     "output_type": "stream",
     "text": [
      "100%|██████████| 16/16 [00:03<00:00,  4.46it/s]\n",
      "100%|██████████| 22/22 [00:00<00:00, 52.32it/s]\n"
     ]
    },
    {
     "name": "stdout",
     "output_type": "stream",
     "text": [
      "Adding procesed CT to list\n",
      "Series processed in 22s \n",
      "\n",
      "Processing series 171 of 170\n"
     ]
    },
    {
     "name": "stderr",
     "output_type": "stream",
     "text": [
      "100%|██████████| 13/13 [00:02<00:00,  4.35it/s]\n",
      "100%|██████████| 4/4 [00:00<00:00, 80.88it/s]\n"
     ]
    },
    {
     "name": "stdout",
     "output_type": "stream",
     "text": [
      "Adding procesed CT to list\n",
      "Series processed in 17s \n",
      "\n",
      "Processing series 172 of 170\n"
     ]
    },
    {
     "name": "stderr",
     "output_type": "stream",
     "text": [
      "100%|██████████| 14/14 [00:03<00:00,  4.45it/s]\n",
      "100%|██████████| 2/2 [00:00<00:00, 176.07it/s]\n"
     ]
    },
    {
     "name": "stdout",
     "output_type": "stream",
     "text": [
      "Adding procesed CT to list\n",
      "Series processed in 32s \n",
      "\n",
      "Processing series 173 of 170\n"
     ]
    },
    {
     "name": "stderr",
     "output_type": "stream",
     "text": [
      "100%|██████████| 20/20 [00:04<00:00,  4.20it/s]\n",
      "100%|██████████| 2/2 [00:00<00:00, 167.37it/s]\n"
     ]
    },
    {
     "name": "stdout",
     "output_type": "stream",
     "text": [
      "Adding procesed CT to list\n",
      "Series processed in 62s \n",
      "\n",
      "Processing series 174 of 170\n"
     ]
    },
    {
     "name": "stderr",
     "output_type": "stream",
     "text": [
      "100%|██████████| 15/15 [00:03<00:00,  4.30it/s]\n",
      "100%|██████████| 6/6 [00:00<00:00, 64.57it/s]\n"
     ]
    },
    {
     "name": "stdout",
     "output_type": "stream",
     "text": [
      "Adding procesed CT to list\n",
      "Series processed in 34s \n",
      "\n",
      "Processing series 175 of 170\n"
     ]
    },
    {
     "name": "stderr",
     "output_type": "stream",
     "text": [
      "100%|██████████| 15/15 [00:03<00:00,  4.35it/s]\n",
      "100%|██████████| 10/10 [00:00<00:00, 55.44it/s]\n"
     ]
    },
    {
     "name": "stdout",
     "output_type": "stream",
     "text": [
      "Adding procesed CT to list\n",
      "Series processed in 22s \n",
      "\n",
      "All images processed in 79.0 minutes \n",
      "\n",
      "Adding processed CTs to dataframe\n"
     ]
    }
   ],
   "source": [
    "ctdf = pd.DataFrame(index=patients)\n",
    "\n",
    "ct_list = []\n",
    "vol_list = []\n",
    "\n",
    "start_time = datetime.now()\n",
    "print(\"Started processing at \" + str(start_time.time()))\n",
    "\n",
    "for count, i in enumerate(ctdf.index):\n",
    "    \n",
    "    image_start = datetime.now()\n",
    "    print(\"Processing series \" + str(count+1) + \" of \" + str(len(ctdf.index)))\n",
    "    \n",
    "    try:\n",
    "        processed, vol = process_scan(dicomdir + i)\n",
    "        if np.isnan(processed).any():\n",
    "            print('Processed CT is NaN, dropping patient from dataframe - fix this')\n",
    "        else:\n",
    "            print('Adding procesed CT to list')\n",
    "            ct_list.append(processed)\n",
    "            vol_list.append(vol)\n",
    "    except Exception as e:\n",
    "        print(e)\n",
    "        print(\"Error processing, dropping patient from dataframe\")\n",
    "        ctdf.drop(i, axis=0, inplace=True)\n",
    "        \n",
    "    image_stop = datetime.now()\n",
    "    itertime = image_stop - image_start\n",
    "    print('Series processed in ' + str(itertime.seconds) + 's \\n')\n",
    "    \n",
    "stop_time = datetime.now()\n",
    "total_time = stop_time - start_time\n",
    "print(\"All images processed in \" + str(np.round(total_time.total_seconds() / 60)) + ' minutes \\n')\n",
    "\n",
    "print('Adding processed CTs to dataframe')\n",
    "ctdf['ct'] = ct_list\n",
    "ctdf['lung_vol'] = vol_list.copy()"
   ]
  },
  {
   "cell_type": "code",
   "execution_count": 5,
   "metadata": {},
   "outputs": [],
   "source": [
    "ctdf.to_pickle('ctdf.pkl')"
   ]
  },
  {
   "cell_type": "code",
   "execution_count": 11,
   "metadata": {},
   "outputs": [
    {
     "data": {
      "image/png": "[encoded data removed]",
      "text/plain": [
       "<Figure size 1080x1080 with 20 Axes>"
      ]
     },
     "metadata": {
      "needs_background": "light"
     },
     "output_type": "display_data"
    }
   ],
   "source": [
    "fig = plt.figure(figsize=[15,15])\n",
    "for i in range(20):\n",
    "    y = fig.add_subplot(4,5,i+1)\n",
    "    y.imshow(ctdf['ct'][150][i], cmap='gray')"
   ]
  },
  {
   "cell_type": "code",
   "execution_count": null,
   "metadata": {},
   "outputs": [],
   "source": []
  }
 ],
 "metadata": {
  "kernelspec": {
   "display_name": "Python 3",
   "language": "python",
   "name": "python3"
  },
  "language_info": {
   "codemirror_mode": {
    "name": "ipython",
    "version": 3
   },
   "file_extension": ".py",
   "mimetype": "text/x-python",
   "name": "python",
   "nbconvert_exporter": "python",
   "pygments_lexer": "ipython3",
   "version": "3.8.5"
  }
 },
 "nbformat": 4,
 "nbformat_minor": 4
}
