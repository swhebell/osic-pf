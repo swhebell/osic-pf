{
 "cells": [
  {
   "cell_type": "code",
   "execution_count": 1,
   "metadata": {},
   "outputs": [],
   "source": [
    "%load_ext tensorboard\n",
    "\n",
    "import datetime\n",
    "\n",
    "import pandas as pd\n",
    "import numpy as np\n",
    "\n",
    "import matplotlib.pyplot as plt\n",
    "\n",
    "from sklearn.model_selection import GroupShuffleSplit, train_test_split\n",
    "\n",
    "import tensorflow as tf\n",
    "from tensorflow.keras import datasets, layers, models\n",
    "\n",
    "#Imports for functional API use\n",
    "from tensorflow.keras.models import Sequential\n",
    "from tensorflow.keras.layers import BatchNormalization\n",
    "from tensorflow.keras.layers import Conv3D\n",
    "from tensorflow.keras.layers import MaxPooling3D\n",
    "from tensorflow.keras.layers import Activation\n",
    "from tensorflow.keras.layers import Dropout\n",
    "from tensorflow.keras.layers import Dense\n",
    "from tensorflow.keras.layers import Flatten\n",
    "from tensorflow.keras.layers import Input\n",
    "from tensorflow.keras.layers import Lambda\n",
    "from tensorflow.keras.models import Model\n",
    "from tensorflow.keras.optimizers import Adam\n",
    "from tensorflow.keras.layers import concatenate"
   ]
  },
  {
   "cell_type": "code",
   "execution_count": 2,
   "metadata": {},
   "outputs": [],
   "source": [
    "# GPU options to limit OOM erors\n",
    "physical_devices = tf.config.experimental.list_physical_devices('GPU')\n",
    "tf.config.experimental.set_memory_growth(physical_devices[0], True)"
   ]
  },
  {
   "cell_type": "code",
   "execution_count": 3,
   "metadata": {},
   "outputs": [],
   "source": [
    "# Clear old logs for tensorboard\n",
    "!rm -rf ./logs/ "
   ]
  },
  {
   "cell_type": "code",
   "execution_count": 3,
   "metadata": {},
   "outputs": [],
   "source": [
    "# Load the processed CTs and measures lung volumes\n",
    "ctdf = pd.read_pickle('ctdf.pkl')"
   ]
  },
  {
   "cell_type": "code",
   "execution_count": 4,
   "metadata": {},
   "outputs": [
    {
     "data": {
      "text/plain": [
       "1535"
      ]
     },
     "execution_count": 4,
     "metadata": {},
     "output_type": "execute_result"
    }
   ],
   "source": [
    "# Load the preprocessed tabular features\n",
    "features = pd.read_pickle('tabular_features.pkl')\n",
    "len(features)"
   ]
  },
  {
   "cell_type": "code",
   "execution_count": 5,
   "metadata": {},
   "outputs": [
    {
     "data": {
      "text/plain": [
       "1485"
      ]
     },
     "execution_count": 5,
     "metadata": {},
     "output_type": "execute_result"
    }
   ],
   "source": [
    "# Drop any patients that we don't have CT data for\n",
    "for row, i in features['Patient'].items():\n",
    "    if i not in ctdf.index:\n",
    "        features.drop(row, axis=0, inplace=True)\n",
    "\n",
    "len(features)"
   ]
  },
  {
   "cell_type": "code",
   "execution_count": 6,
   "metadata": {},
   "outputs": [],
   "source": [
    "# Reshape for tensor input and then add the CT for each patient\n",
    "ct_list = []\n",
    "lungvol_list = []\n",
    "\n",
    "for row, i in features['Patient'].items():\n",
    "    ct = ctdf.loc[i, 'ct']\n",
    "    reshaped = ct.reshape(20,200,200,1)\n",
    "    ct_list.append(reshaped)\n",
    "    lungvol_list.append(ctdf.loc[i, 'lung_vol'])\n",
    "features['ct'] = ct_list\n"
   ]
  },
  {
   "cell_type": "code",
   "execution_count": 7,
   "metadata": {},
   "outputs": [],
   "source": [
    "# Scale CT measured lung volumes and add to features dataframe\n",
    "\n",
    "features['lung_vol'] = (np.array(lungvol_list) - np.array(lungvol_list).min()) / \\\n",
    "                      (np.array(lungvol_list).max() - np.array(lungvol_list).min())"
   ]
  },
  {
   "cell_type": "code",
   "execution_count": 8,
   "metadata": {},
   "outputs": [
    {
     "data": {
      "text/plain": [
       "Index(['Patient', 'Sex_Female', 'Sex_Male', 'SmokingStatus_Currently smokes',\n",
       "       'SmokingStatus_Ex-smoker', 'SmokingStatus_Never smoked', 'age', 'weeks',\n",
       "       'base_fvc', 'fvc', 'ct', 'lung_vol'],\n",
       "      dtype='object')"
      ]
     },
     "execution_count": 8,
     "metadata": {},
     "output_type": "execute_result"
    }
   ],
   "source": [
    "features.columns"
   ]
  },
  {
   "cell_type": "code",
   "execution_count": 9,
   "metadata": {},
   "outputs": [
    {
     "name": "stderr",
     "output_type": "stream",
     "text": [
      "/home/swhebell/anaconda3/envs/osic-pf/lib/python3.8/site-packages/pandas/core/frame.py:4157: SettingWithCopyWarning: \n",
      "A value is trying to be set on a copy of a slice from a DataFrame\n",
      "\n",
      "See the caveats in the documentation: https://pandas.pydata.org/pandas-docs/stable/user_guide/indexing.html#returning-a-view-versus-a-copy\n",
      "  return super().drop(\n"
     ]
    }
   ],
   "source": [
    "# Create train and test sets grouped by patient\n",
    "train_inds, test_inds = next(GroupShuffleSplit(test_size=.20, n_splits=2, random_state = 9).split(features, groups=features['Patient']))\n",
    "\n",
    "train = features.iloc[train_inds]\n",
    "test = features.iloc[test_inds]\n",
    "train.drop('Patient', axis=1, inplace=True)\n",
    "test.drop('Patient', axis=1, inplace=True)"
   ]
  },
  {
   "cell_type": "code",
   "execution_count": 10,
   "metadata": {},
   "outputs": [],
   "source": [
    "# Split train and test into tabular and CT data\n",
    "X_tab_train = train[['Sex_Female', 'Sex_Male', 'SmokingStatus_Currently smokes',\n",
    "                     'SmokingStatus_Ex-smoker', 'SmokingStatus_Never smoked', 'age', 'weeks', 'base_fvc', 'lung_vol']]\n",
    "X_ct_train = np.asarray(list(train['ct']))\n",
    "y_train = train['fvc']\n",
    "X_tab_test = test[['Sex_Female', 'Sex_Male', 'SmokingStatus_Currently smokes', \n",
    "                   'SmokingStatus_Ex-smoker', 'SmokingStatus_Never smoked', 'age', 'weeks', 'base_fvc', 'lung_vol']]\n",
    "X_ct_test = np.asarray(list(test['ct']))\n",
    "y_test = test['fvc']"
   ]
  },
  {
   "cell_type": "code",
   "execution_count": 11,
   "metadata": {},
   "outputs": [],
   "source": [
    "#X_train, X_test, y_train, y_test = train_test_split(features[['Sex_Female', 'Sex_Male', 'SmokingStatus_Currently smokes',\n",
    "#                                                              'SmokingStatus_Ex-smoker', 'SmokingStatus_Never smoked',\n",
    "#                                                              'age', 'weeks', 'ct', 'base_fvc', 'lung_vol']],\n",
    "#                                                    features['fvc'],\n",
    "#                                                    test_size=0.2,\n",
    "#                                                    random_state=42)"
   ]
  },
  {
   "cell_type": "code",
   "execution_count": 12,
   "metadata": {},
   "outputs": [],
   "source": [
    "#X_tab_train = X_train.drop('ct', axis=1)\n",
    "#X_ct_train = np.asarray(list(X_train['ct']))\n",
    "#X_tab_test = X_test.drop('ct', axis=1)\n",
    "#X_ct_test = np.asarray(list(X_test['ct']))"
   ]
  },
  {
   "cell_type": "code",
   "execution_count": 13,
   "metadata": {},
   "outputs": [],
   "source": [
    "# create constants for the loss function\n",
    "C1, C2 = tf.constant(70, dtype='float32'), tf.constant(1000, dtype=\"float32\")\n",
    "\n",
    "# define competition metric\n",
    "def score(y_true, y_pred):\n",
    "    \"\"\"Calculate the competition metric\"\"\"\n",
    "    tf.dtypes.cast(y_true, tf.float32)\n",
    "    tf.dtypes.cast(y_pred, tf.float32)\n",
    "    sigma = y_pred[:, 2] - y_pred[:, 0]\n",
    "    fvc_pred = y_pred[:, 1]\n",
    "    \n",
    "    sigma_clip = tf.maximum(sigma, C1)\n",
    "    delta = tf.abs(y_true[:, 0] - fvc_pred)\n",
    "    delta = tf.minimum(delta, C2)\n",
    "    sq2 = tf.sqrt( tf.dtypes.cast(2, dtype = tf.float32) )\n",
    "    metric = (delta / sigma_clip) * sq2 + tf.math.log(sigma_clip * sq2)\n",
    "    return tf.keras.backend.mean(metric)\n",
    "\n",
    "# define pinball loss\n",
    "def qloss(y_true, y_pred):\n",
    "    \"\"\"Calculate Pinball loss\"\"\"\n",
    "    # IMPORTANT: define quartiles, feel free to change here!\n",
    "    qs = [0.2, 0.50, 0.8]\n",
    "    q = tf.constant(np.array([qs]), dtype = tf.float32)\n",
    "    e = y_true - y_pred\n",
    "    v = tf.maximum(q * e, (q-1) * e)\n",
    "    return tf.keras.backend.mean(v)\n",
    "\n",
    "# combine competition metric and pinball loss to a joint loss function\n",
    "def mloss(_lambda):\n",
    "    \"\"\"Combine Score and qloss\"\"\"\n",
    "    def loss(y_true, y_pred):\n",
    "        return _lambda * qloss(y_true, y_pred) + (1 - _lambda) * score(y_true, y_pred)\n",
    "    return loss"
   ]
  },
  {
   "cell_type": "code",
   "execution_count": 14,
   "metadata": {},
   "outputs": [],
   "source": [
    "# Create the MLP NN for the tabular branch\n",
    "\n",
    "def create_mlp():\n",
    "    \n",
    "    model = models.Sequential()\n",
    "    \n",
    "    model.add(layers.Dense(128, activation='relu', input_shape=(9,), name='Tabular_Input'))\n",
    "    model.add(layers.Dense(128, activation='relu'))\n",
    "    \n",
    "    return model"
   ]
  },
  {
   "cell_type": "code",
   "execution_count": 15,
   "metadata": {},
   "outputs": [],
   "source": [
    "def create_cnn():\n",
    "    \n",
    "    model = models.Sequential()\n",
    "    \n",
    "    model.add(layers.Conv3D(32, (2, 5, 5), activation='relu', padding='same', data_format='channels_last',\n",
    "                            input_shape=(20,200,200,1),\n",
    "                            name='CT_input')) # set input shape to dimensions chosen for CT imaging\n",
    "    model.add(layers.AveragePooling3D((1, 2, 2)))\n",
    "    model.add(layers.BatchNormalization())\n",
    "    model.add(layers.Conv3D(64, (2, 5, 5), activation='relu', padding='same'))\n",
    "    model.add(layers.AveragePooling3D((1, 2, 2)))\n",
    "    model.add(layers.BatchNormalization())\n",
    "    model.add(layers.Conv3D(64, (2, 5, 5), activation='relu', padding='same'))\n",
    "    model.add(layers.AveragePooling3D((1, 2, 2)))\n",
    "    model.add(layers.BatchNormalization())\n",
    "    \n",
    "    model.add(layers.SpatialDropout3D(0.3))\n",
    "    \n",
    "    model.add(layers.Flatten())\n",
    "    \n",
    "    \n",
    "    model.add(layers.Dense(128, activation='relu'))\n",
    "    \n",
    "    return model"
   ]
  },
  {
   "cell_type": "code",
   "execution_count": 16,
   "metadata": {},
   "outputs": [],
   "source": [
    "mlp = create_mlp()\n",
    "cnn = create_cnn()\n",
    "\n",
    "combinedInput = concatenate([mlp.output, cnn.output], name='Concatenate_MLP_CNN')\n",
    "x = BatchNormalization()(combinedInput)\n",
    "x = Dense(256, activation='relu', name='First_Combined_Layer', kernel_regularizer=tf.keras.regularizers.l1(0))(x)\n",
    "x = Dense(128, activation='relu', kernel_regularizer=tf.keras.regularizers.l1(0))(x)\n",
    "#x = Dense(128, activation='relu', kernel_regularizer=tf.keras.regularizers.l1(0.001))(x)\n",
    "#x = Dense(64, activation='relu', kernel_regularizer=tf.keras.regularizers.l1(0))(x)\n",
    "#x = Dropout(0.3)(x)\n",
    "\n",
    "# Output three quantiles as specified above in the qloss function\n",
    "p1 = Dense(3, activation = \"relu\", name = \"p1\")(x)\n",
    "# quantile adjusting p1 predictions\n",
    "p2 = Dense(3, activation = \"relu\", name = \"p2\")(x)\n",
    "preds = Lambda(lambda x: x[0] + tf.cumsum(x[1], axis = 1), name = \"preds\")([p1, p2])\n",
    "\n",
    "model= Model(inputs=[mlp.input, cnn.input], outputs = preds, name='SpatialDropout3D_Simplified')"
   ]
  },
  {
   "cell_type": "code",
   "execution_count": 17,
   "metadata": {},
   "outputs": [
    {
     "name": "stdout",
     "output_type": "stream",
     "text": [
      "Model: \"SpatialDropout3D_Simplified\"\n",
      "__________________________________________________________________________________________________\n",
      "Layer (type)                    Output Shape         Param #     Connected to                     \n",
      "==================================================================================================\n",
      "CT_input_input (InputLayer)     [(None, 20, 200, 200 0                                            \n",
      "__________________________________________________________________________________________________\n",
      "CT_input (Conv3D)               (None, 20, 200, 200, 1632        CT_input_input[0][0]             \n",
      "__________________________________________________________________________________________________\n",
      "average_pooling3d (AveragePooli (None, 20, 100, 100, 0           CT_input[0][0]                   \n",
      "__________________________________________________________________________________________________\n",
      "batch_normalization (BatchNorma (None, 20, 100, 100, 128         average_pooling3d[0][0]          \n",
      "__________________________________________________________________________________________________\n",
      "conv3d (Conv3D)                 (None, 20, 100, 100, 102464      batch_normalization[0][0]        \n",
      "__________________________________________________________________________________________________\n",
      "average_pooling3d_1 (AveragePoo (None, 20, 50, 50, 6 0           conv3d[0][0]                     \n",
      "__________________________________________________________________________________________________\n",
      "batch_normalization_1 (BatchNor (None, 20, 50, 50, 6 256         average_pooling3d_1[0][0]        \n",
      "__________________________________________________________________________________________________\n",
      "conv3d_1 (Conv3D)               (None, 20, 50, 50, 6 204864      batch_normalization_1[0][0]      \n",
      "__________________________________________________________________________________________________\n",
      "average_pooling3d_2 (AveragePoo (None, 20, 25, 25, 6 0           conv3d_1[0][0]                   \n",
      "__________________________________________________________________________________________________\n",
      "batch_normalization_2 (BatchNor (None, 20, 25, 25, 6 256         average_pooling3d_2[0][0]        \n",
      "__________________________________________________________________________________________________\n",
      "Tabular_Input_input (InputLayer [(None, 9)]          0                                            \n",
      "__________________________________________________________________________________________________\n",
      "spatial_dropout3d (SpatialDropo (None, 20, 25, 25, 6 0           batch_normalization_2[0][0]      \n",
      "__________________________________________________________________________________________________\n",
      "Tabular_Input (Dense)           (None, 128)          1280        Tabular_Input_input[0][0]        \n",
      "__________________________________________________________________________________________________\n",
      "flatten (Flatten)               (None, 800000)       0           spatial_dropout3d[0][0]          \n",
      "__________________________________________________________________________________________________\n",
      "dense (Dense)                   (None, 128)          16512       Tabular_Input[0][0]              \n",
      "__________________________________________________________________________________________________\n",
      "dense_1 (Dense)                 (None, 128)          102400128   flatten[0][0]                    \n",
      "__________________________________________________________________________________________________\n",
      "Concatenate_MLP_CNN (Concatenat (None, 256)          0           dense[0][0]                      \n",
      "                                                                 dense_1[0][0]                    \n",
      "__________________________________________________________________________________________________\n",
      "batch_normalization_3 (BatchNor (None, 256)          1024        Concatenate_MLP_CNN[0][0]        \n",
      "__________________________________________________________________________________________________\n",
      "First_Combined_Layer (Dense)    (None, 256)          65792       batch_normalization_3[0][0]      \n",
      "__________________________________________________________________________________________________\n",
      "dense_2 (Dense)                 (None, 128)          32896       First_Combined_Layer[0][0]       \n",
      "__________________________________________________________________________________________________\n",
      "p1 (Dense)                      (None, 3)            387         dense_2[0][0]                    \n",
      "__________________________________________________________________________________________________\n",
      "p2 (Dense)                      (None, 3)            387         dense_2[0][0]                    \n",
      "__________________________________________________________________________________________________\n",
      "preds (Lambda)                  (None, 3)            0           p1[0][0]                         \n",
      "                                                                 p2[0][0]                         \n",
      "==================================================================================================\n",
      "Total params: 102,828,006\n",
      "Trainable params: 102,827,174\n",
      "Non-trainable params: 832\n",
      "__________________________________________________________________________________________________\n"
     ]
    }
   ],
   "source": [
    "model.summary()"
   ]
  },
  {
   "cell_type": "code",
   "execution_count": 18,
   "metadata": {},
   "outputs": [],
   "source": [
    "# Compile the model - target mean_absolue_percentage_error\n",
    "model.compile(optimizer=tf.keras.optimizers.Adam(lr=0.001),\n",
    "             loss= mloss(0.8),\n",
    "             metrics=[score])"
   ]
  },
  {
   "cell_type": "code",
   "execution_count": 19,
   "metadata": {},
   "outputs": [],
   "source": [
    "# Specify callbacks for tensorboard\n",
    "log_dir = \"logs/fit/\" + datetime.datetime.now().strftime(\"%Y%m%d-%H%M%S\")\n",
    "tensorboard_callback = tf.keras.callbacks.TensorBoard(log_dir=log_dir, histogram_freq=1)\n",
    "\n",
    "# Specify early stopping callback\n",
    "early_stopping = tf.keras.callbacks.EarlyStopping(monitor='val_loss', patience=10, mode='min',\n",
    "                                                  restore_best_weights=True, verbose=1)"
   ]
  },
  {
   "cell_type": "code",
   "execution_count": null,
   "metadata": {},
   "outputs": [
    {
     "name": "stdout",
     "output_type": "stream",
     "text": [
      "Epoch 1/5\n"
     ]
    }
   ],
   "source": [
    "history = model.fit(x=[X_tab_train, X_ct_train], y=y_train,\n",
    "                    validation_data=([X_tab_test, X_ct_test], y_test),\n",
    "                    batch_size = 4, epochs=5,\n",
    "                    callbacks=[tensorboard_callback])"
   ]
  },
  {
   "cell_type": "code",
   "execution_count": 29,
   "metadata": {},
   "outputs": [
    {
     "data": {
      "image/png": "[encoded data removed]",
      "text/plain": [
       "<Figure size 432x288 with 1 Axes>"
      ]
     },
     "metadata": {
      "needs_background": "light"
     },
     "output_type": "display_data"
    }
   ],
   "source": [
    "# Look for bias\n",
    "\n",
    "predictions = model.predict([X_tab_test, X_ct_test], batch_size=1)\n",
    "a = plt.axes(aspect='equal')\n",
    "plt.scatter(predictions[:,1], y_test, edgecolors=(0, 0, 0))\n",
    "plt.xlabel('True Values')\n",
    "plt.ylabel('Predictions')\n",
    "lims = [1000, 4000]\n",
    "plt.xlim(lims)\n",
    "plt.ylim(lims)\n",
    "_ = plt.plot(lims, lims)"
   ]
  },
  {
   "cell_type": "code",
   "execution_count": null,
   "metadata": {},
   "outputs": [],
   "source": []
  }
 ],
 "metadata": {
  "kernelspec": {
   "display_name": "Python 3",
   "language": "python",
   "name": "python3"
  },
  "language_info": {
   "codemirror_mode": {
    "name": "ipython",
    "version": 3
   },
   "file_extension": ".py",
   "mimetype": "text/x-python",
   "name": "python",
   "nbconvert_exporter": "python",
   "pygments_lexer": "ipython3",
   "version": "3.8.5"
  }
 },
 "nbformat": 4,
 "nbformat_minor": 4
}
